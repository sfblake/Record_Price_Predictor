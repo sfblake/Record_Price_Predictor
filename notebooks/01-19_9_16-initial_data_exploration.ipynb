{
 "cells": [
  {
   "cell_type": "code",
   "execution_count": 1,
   "metadata": {
    "collapsed": true
   },
   "outputs": [],
   "source": [
    "%matplotlib inline\n",
    "import pandas as pd\n",
    "import numpy as np\n",
    "import matplotlib.pyplot as plt"
   ]
  },
  {
   "cell_type": "code",
   "execution_count": 2,
   "metadata": {
    "collapsed": false
   },
   "outputs": [
    {
     "data": {
      "text/html": [
       "<div>\n",
       "<table border=\"1\" class=\"dataframe\">\n",
       "  <thead>\n",
       "    <tr style=\"text-align: right;\">\n",
       "      <th></th>\n",
       "      <th>artist</th>\n",
       "      <th>average rating</th>\n",
       "      <th>compilation</th>\n",
       "      <th>countries of versions</th>\n",
       "      <th>country</th>\n",
       "      <th>format</th>\n",
       "      <th>format details</th>\n",
       "      <th>genre</th>\n",
       "      <th>highest price sold</th>\n",
       "      <th>label</th>\n",
       "      <th>...</th>\n",
       "      <th>number on label</th>\n",
       "      <th>number on label for sale</th>\n",
       "      <th>number want</th>\n",
       "      <th>release</th>\n",
       "      <th>style</th>\n",
       "      <th>title</th>\n",
       "      <th>track names</th>\n",
       "      <th>url</th>\n",
       "      <th>year</th>\n",
       "      <th>years of versions</th>\n",
       "    </tr>\n",
       "  </thead>\n",
       "  <tbody>\n",
       "    <tr>\n",
       "      <th>0</th>\n",
       "      <td>Herbie Hancock</td>\n",
       "      <td>4.61</td>\n",
       "      <td>False</td>\n",
       "      <td>Europe; Yugoslavia; Canada; Japan; US</td>\n",
       "      <td>US</td>\n",
       "      <td>Vinyl</td>\n",
       "      <td>LP; Album</td>\n",
       "      <td>Electronic; Jazz</td>\n",
       "      <td>13.84</td>\n",
       "      <td>Columbia</td>\n",
       "      <td>...</td>\n",
       "      <td>104094</td>\n",
       "      <td>611795</td>\n",
       "      <td>3062</td>\n",
       "      <td>KC32731</td>\n",
       "      <td>Jazz-Funk</td>\n",
       "      <td>Head Hunters</td>\n",
       "      <td>Chameleon; Watermelon Man; Sly; Vein Melter</td>\n",
       "      <td>https://www.discogs.com/Herbie-Hancock-Head-Hu...</td>\n",
       "      <td>1973</td>\n",
       "      <td>1997; 1975; 1973; 2013; 1974</td>\n",
       "    </tr>\n",
       "  </tbody>\n",
       "</table>\n",
       "<p>1 rows × 30 columns</p>\n",
       "</div>"
      ],
      "text/plain": [
       "           artist  average rating compilation  \\\n",
       "0  Herbie Hancock            4.61       False   \n",
       "\n",
       "                   countries of versions country format format details  \\\n",
       "0  Europe; Yugoslavia; Canada; Japan; US      US  Vinyl      LP; Album   \n",
       "\n",
       "              genre  highest price sold     label  \\\n",
       "0  Electronic; Jazz               13.84  Columbia   \n",
       "\n",
       "               ...              number on label  number on label for sale  \\\n",
       "0              ...                       104094                    611795   \n",
       "\n",
       "   number want  release      style         title  \\\n",
       "0         3062  KC32731  Jazz-Funk  Head Hunters   \n",
       "\n",
       "                                   track names  \\\n",
       "0  Chameleon; Watermelon Man; Sly; Vein Melter   \n",
       "\n",
       "                                                 url  year  \\\n",
       "0  https://www.discogs.com/Herbie-Hancock-Head-Hu...  1973   \n",
       "\n",
       "              years of versions  \n",
       "0  1997; 1975; 1973; 2013; 1974  \n",
       "\n",
       "[1 rows x 30 columns]"
      ]
     },
     "execution_count": 2,
     "metadata": {},
     "output_type": "execute_result"
    }
   ],
   "source": [
    "albums = pd.read_csv('../data/raw/albums.csv',encoding='utf-8',index_col=0)\n",
    "albums.head(1)"
   ]
  },
  {
   "cell_type": "code",
   "execution_count": 3,
   "metadata": {
    "collapsed": false
   },
   "outputs": [
    {
     "name": "stdout",
     "output_type": "stream",
     "text": [
      "25000 total albums\n",
      "23124 total sold albums\n"
     ]
    }
   ],
   "source": [
    "#Pick out only the albums that have been sold\n",
    "print(str(len(albums)) +' total albums')\n",
    "albums = albums[pd.notnull(albums['median price sold'])]\n",
    "print(str(len(albums)) +' total sold albums')"
   ]
  },
  {
   "cell_type": "markdown",
   "metadata": {},
   "source": [
    "We have a data set of 23124 values (for now) of the most popular jazz records on discogs. This won't be particularly representitive of all records, but can serve as a decent starting set for the model."
   ]
  },
  {
   "cell_type": "code",
   "execution_count": 14,
   "metadata": {
    "collapsed": false
   },
   "outputs": [
    {
     "data": {
      "image/png": "[encoded data removed]",
      "text/plain": [
       "<matplotlib.figure.Figure at 0x99ad358>"
      ]
     },
     "metadata": {},
     "output_type": "display_data"
    }
   ],
   "source": [
    "albums['median price sold'].hist(bins=100)\n",
    "plt.xlabel('Median price sold (£)')\n",
    "plt.ylabel('Count')\n",
    "plt.title('Distribution of prices');"
   ]
  },
  {
   "cell_type": "code",
   "execution_count": 6,
   "metadata": {
    "collapsed": false
   },
   "outputs": [
    {
     "name": "stdout",
     "output_type": "stream",
     "text": [
      "Mean sale price is £35.27\n",
      "Median sale price is £18.45\n"
     ]
    }
   ],
   "source": [
    "print('Mean sale price is £{0:.2f}'.format(albums['median price sold'].mean()))\n",
    "print('Median sale price is £{0:.2f}'.format(albums['median price sold'].median()))"
   ]
  },
  {
   "cell_type": "code",
   "execution_count": 29,
   "metadata": {
    "collapsed": false
   },
   "outputs": [
    {
     "data": {
      "image/png": "[encoded data removed]",
      "text/plain": [
       "<matplotlib.figure.Figure at 0x129a5278>"
      ]
     },
     "metadata": {},
     "output_type": "display_data"
    }
   ],
   "source": [
    "albums['median price sold'].hist(bins=500)\n",
    "plt.xlabel('Median price sold (£)')\n",
    "plt.xlim([0,200])\n",
    "plt.ylabel('Count')\n",
    "plt.title('Distribution of prices')\n",
    "plt.plot([albums['median price sold'].mean(),albums['median price sold'].mean()],[0,4000],'-r')\n",
    "plt.plot([albums['median price sold'].median(),albums['median price sold'].median()],[0,4000],'-g')\n",
    "plt.text(albums['median price sold'].mean(),4000,'mean',color='r',ha='left',va='bottom')\n",
    "plt.text(albums['median price sold'].median(),4000,'median',color='g',ha='center',va='bottom');"
   ]
  },
  {
   "cell_type": "markdown",
   "metadata": {},
   "source": [
    "We have quite a few very expensive records which are shifting the mean higher.\n",
    "\n",
    "If we use an R^2 cost function we find:"
   ]
  },
  {
   "cell_type": "code",
   "execution_count": 8,
   "metadata": {
    "collapsed": false
   },
   "outputs": [
    {
     "name": "stdout",
     "output_type": "stream",
     "text": [
      "Total cost predicting mean sale price is 91553443.48\n",
      "Total cost predicting median sale price is 98098370.88\n"
     ]
    }
   ],
   "source": [
    "mean_cost = sum((albums['median price sold'] - albums['median price sold'].mean())**2)\n",
    "median_cost = sum((albums['median price sold'] - albums['median price sold'].median())**2)\n",
    "print('Total cost predicting mean sale price is {0:.2f}'.format(mean_cost))\n",
    "print('Total cost predicting median sale price is {0:.2f}'.format(median_cost))"
   ]
  },
  {
   "cell_type": "markdown",
   "metadata": {},
   "source": [
    "Assuming the mean nevertheless proves a better method for generating predictions.\n",
    "\n",
    "To measure the success of the model, let's look at two measures:  \n",
    "1) The mean price difference between actual and predicted  \n",
    "2) The R^2 score using the mean  \n",
    "Both are defined below:"
   ]
  },
  {
   "cell_type": "code",
   "execution_count": 31,
   "metadata": {
    "collapsed": true
   },
   "outputs": [],
   "source": [
    "def get_mean_diff(y_test,y_pred):\n",
    "    \"\"\"Calculate the mean difference between test and prediction\"\"\"\n",
    "    mean_diff = np.mean(abs(y_test - y_pred))\n",
    "    return mean_diff\n",
    "\n",
    "def get_score(y_test, y_pred):\n",
    "    \"\"\"Calculate the R^2 score from two numpy array inputs, using a guess of the median as a benchmark\"\"\"\n",
    "    u = sum((y_test - y_pred)**2)\n",
    "    v = sum((y_test - np.mean(y_test))**2)\n",
    "    R_sq = 1 - u/v\n",
    "    return R_sq"
   ]
  },
  {
   "cell_type": "markdown",
   "metadata": {},
   "source": [
    "Let's see how these perform when we assume the mean for every value."
   ]
  },
  {
   "cell_type": "code",
   "execution_count": 33,
   "metadata": {
    "collapsed": false
   },
   "outputs": [
    {
     "name": "stdout",
     "output_type": "stream",
     "text": [
      "Guessing the mean gives £29.42 mean difference and 0.0000 score\n"
     ]
    }
   ],
   "source": [
    "mean_diff = get_mean_diff(np.array(albums['median price sold']), albums['median price sold'].mean())\n",
    "score = get_score(np.array(albums['median price sold']), albums['median price sold'].mean())\n",
    "print('Guessing the mean gives £{0:.2f} mean difference and {1:.4f} score'.format(mean_diff,score))"
   ]
  },
  {
   "cell_type": "markdown",
   "metadata": {},
   "source": [
    "## Building a regressor: Linear Regression\n",
    "\n",
    "For each record sold we have the minimum sale price and the maximum sale price. These should provide a pretty good indicator of the price of the record."
   ]
  },
  {
   "cell_type": "code",
   "execution_count": 34,
   "metadata": {
    "collapsed": false
   },
   "outputs": [
    {
     "name": "stdout",
     "output_type": "stream",
     "text": [
      "Simple linear regression gives £5.38 mean difference and 0.9409 score\n"
     ]
    }
   ],
   "source": [
    "from sklearn.linear_model import LinearRegression\n",
    "from sklearn.cross_validation import KFold\n",
    "from sklearn.preprocessing import StandardScaler\n",
    "\n",
    "#Randomly shuffle the row order\n",
    "new_albums = albums.sample(frac=1)\n",
    "\n",
    "#Use the most obvious predictors\n",
    "predictors = ['lowest price sold', 'highest price sold']\n",
    "\n",
    "#Do a linear regression\n",
    "alg = LinearRegression()\n",
    "\n",
    "#Split the data into 10 subsets\n",
    "kf = KFold(new_albums.shape[0], n_folds = 10, random_state = 1)\n",
    "predictions = []\n",
    "scores = []\n",
    "\n",
    "#Train and predict\n",
    "for train, test in kf:\n",
    "    X_train = (new_albums[predictors].iloc[train,:])\n",
    "    y_train = new_albums['median price sold'].iloc[train]\n",
    "    #Scale all the features\n",
    "    scaler = StandardScaler().fit(X_train)\n",
    "    X_train_transformed = scaler.transform(X_train)\n",
    "    alg.fit(X_train_transformed, y_train)\n",
    "    X_test = (new_albums[predictors].iloc[test,:])\n",
    "    y_test = new_albums['median price sold'].iloc[test]\n",
    "    test_predictions = alg.predict(scaler.transform(X_test))\n",
    "    predictions.append(test_predictions)\n",
    "\n",
    "predictions = np.concatenate(predictions,axis = 0)\n",
    "#If anything is predicted a negative price, set this to zero\n",
    "predictions[predictions<0] = 0\n",
    " \n",
    "mean_diff = get_mean_diff(np.array(new_albums['median price sold']), predictions)\n",
    "score = get_score(np.array(new_albums['median price sold']), predictions)\n",
    "print('Simple linear regression gives £{0:.2f} mean difference and {1:.4f} score'.format(mean_diff,score))"
   ]
  },
  {
   "cell_type": "markdown",
   "metadata": {},
   "source": [
    "Of course this is kind of cheating: if the item has these two fields then it also has the median sale price as well,\n",
    "so this model would be no use in predicting the prices of unsold items.\n",
    "\n",
    "Let's leave out these fields for now, but keep these results as a benchmark for how well we may be able to perform."
   ]
  },
  {
   "cell_type": "code",
   "execution_count": 35,
   "metadata": {
    "collapsed": false
   },
   "outputs": [
    {
     "data": {
      "text/html": [
       "<div>\n",
       "<table border=\"1\" class=\"dataframe\">\n",
       "  <thead>\n",
       "    <tr style=\"text-align: right;\">\n",
       "      <th></th>\n",
       "      <th>average rating</th>\n",
       "      <th>compilation</th>\n",
       "      <th>highest price sold</th>\n",
       "      <th>lowest price for sale</th>\n",
       "      <th>lowest price sold</th>\n",
       "      <th>median price sold</th>\n",
       "      <th>number for sale</th>\n",
       "      <th>number have</th>\n",
       "      <th>number of ratings</th>\n",
       "      <th>number of tracks</th>\n",
       "      <th>number of versions</th>\n",
       "      <th>number on label</th>\n",
       "      <th>number on label for sale</th>\n",
       "      <th>number want</th>\n",
       "    </tr>\n",
       "  </thead>\n",
       "  <tbody>\n",
       "    <tr>\n",
       "      <th>count</th>\n",
       "      <td>22470.000000</td>\n",
       "      <td>23124</td>\n",
       "      <td>23124.000000</td>\n",
       "      <td>19879.000000</td>\n",
       "      <td>23124.000000</td>\n",
       "      <td>23124.000000</td>\n",
       "      <td>23124.000000</td>\n",
       "      <td>23124.000000</td>\n",
       "      <td>23124.000000</td>\n",
       "      <td>23124.000000</td>\n",
       "      <td>23124.000000</td>\n",
       "      <td>23124.000000</td>\n",
       "      <td>23124.000000</td>\n",
       "      <td>23124.000000</td>\n",
       "    </tr>\n",
       "    <tr>\n",
       "      <th>mean</th>\n",
       "      <td>4.440929</td>\n",
       "      <td>0.0503373</td>\n",
       "      <td>53.495471</td>\n",
       "      <td>41.894874</td>\n",
       "      <td>23.455044</td>\n",
       "      <td>35.273678</td>\n",
       "      <td>7.726475</td>\n",
       "      <td>100.710647</td>\n",
       "      <td>13.932494</td>\n",
       "      <td>9.204290</td>\n",
       "      <td>18.103053</td>\n",
       "      <td>14223.290088</td>\n",
       "      <td>90367.772228</td>\n",
       "      <td>121.305440</td>\n",
       "    </tr>\n",
       "    <tr>\n",
       "      <th>std</th>\n",
       "      <td>0.435892</td>\n",
       "      <td>0.218645</td>\n",
       "      <td>83.212916</td>\n",
       "      <td>133.896217</td>\n",
       "      <td>55.123299</td>\n",
       "      <td>62.923845</td>\n",
       "      <td>11.678685</td>\n",
       "      <td>200.267372</td>\n",
       "      <td>22.786896</td>\n",
       "      <td>9.102978</td>\n",
       "      <td>32.195916</td>\n",
       "      <td>27328.508291</td>\n",
       "      <td>163528.201652</td>\n",
       "      <td>114.668566</td>\n",
       "    </tr>\n",
       "    <tr>\n",
       "      <th>min</th>\n",
       "      <td>1.000000</td>\n",
       "      <td>False</td>\n",
       "      <td>0.090000</td>\n",
       "      <td>0.010000</td>\n",
       "      <td>0.010000</td>\n",
       "      <td>0.090000</td>\n",
       "      <td>0.000000</td>\n",
       "      <td>0.000000</td>\n",
       "      <td>0.000000</td>\n",
       "      <td>1.000000</td>\n",
       "      <td>0.000000</td>\n",
       "      <td>1.000000</td>\n",
       "      <td>0.000000</td>\n",
       "      <td>45.000000</td>\n",
       "    </tr>\n",
       "    <tr>\n",
       "      <th>25%</th>\n",
       "      <td>4.200000</td>\n",
       "      <td>0</td>\n",
       "      <td>17.170000</td>\n",
       "      <td>8.570000</td>\n",
       "      <td>6.000000</td>\n",
       "      <td>11.220000</td>\n",
       "      <td>1.000000</td>\n",
       "      <td>20.000000</td>\n",
       "      <td>4.000000</td>\n",
       "      <td>6.000000</td>\n",
       "      <td>2.000000</td>\n",
       "      <td>125.000000</td>\n",
       "      <td>591.750000</td>\n",
       "      <td>61.000000</td>\n",
       "    </tr>\n",
       "    <tr>\n",
       "      <th>50%</th>\n",
       "      <td>4.500000</td>\n",
       "      <td>0</td>\n",
       "      <td>29.180000</td>\n",
       "      <td>16.270000</td>\n",
       "      <td>11.330000</td>\n",
       "      <td>18.450000</td>\n",
       "      <td>4.000000</td>\n",
       "      <td>46.000000</td>\n",
       "      <td>8.000000</td>\n",
       "      <td>8.000000</td>\n",
       "      <td>6.000000</td>\n",
       "      <td>1141.500000</td>\n",
       "      <td>6986.500000</td>\n",
       "      <td>85.000000</td>\n",
       "    </tr>\n",
       "    <tr>\n",
       "      <th>75%</th>\n",
       "      <td>4.750000</td>\n",
       "      <td>0</td>\n",
       "      <td>55.680000</td>\n",
       "      <td>34.405000</td>\n",
       "      <td>21.460000</td>\n",
       "      <td>34.610000</td>\n",
       "      <td>9.000000</td>\n",
       "      <td>107.000000</td>\n",
       "      <td>16.000000</td>\n",
       "      <td>11.000000</td>\n",
       "      <td>20.000000</td>\n",
       "      <td>10269.000000</td>\n",
       "      <td>50299.250000</td>\n",
       "      <td>136.000000</td>\n",
       "    </tr>\n",
       "    <tr>\n",
       "      <th>max</th>\n",
       "      <td>5.000000</td>\n",
       "      <td>True</td>\n",
       "      <td>2575.110000</td>\n",
       "      <td>8565.650000</td>\n",
       "      <td>2145.930000</td>\n",
       "      <td>2145.930000</td>\n",
       "      <td>189.000000</td>\n",
       "      <td>5684.000000</td>\n",
       "      <td>780.000000</td>\n",
       "      <td>889.000000</td>\n",
       "      <td>245.000000</td>\n",
       "      <td>198317.000000</td>\n",
       "      <td>616773.000000</td>\n",
       "      <td>3062.000000</td>\n",
       "    </tr>\n",
       "  </tbody>\n",
       "</table>\n",
       "</div>"
      ],
      "text/plain": [
       "       average rating compilation  highest price sold  lowest price for sale  \\\n",
       "count    22470.000000       23124        23124.000000           19879.000000   \n",
       "mean         4.440929   0.0503373           53.495471              41.894874   \n",
       "std          0.435892    0.218645           83.212916             133.896217   \n",
       "min          1.000000       False            0.090000               0.010000   \n",
       "25%          4.200000           0           17.170000               8.570000   \n",
       "50%          4.500000           0           29.180000              16.270000   \n",
       "75%          4.750000           0           55.680000              34.405000   \n",
       "max          5.000000        True         2575.110000            8565.650000   \n",
       "\n",
       "       lowest price sold  median price sold  number for sale   number have  \\\n",
       "count       23124.000000       23124.000000     23124.000000  23124.000000   \n",
       "mean           23.455044          35.273678         7.726475    100.710647   \n",
       "std            55.123299          62.923845        11.678685    200.267372   \n",
       "min             0.010000           0.090000         0.000000      0.000000   \n",
       "25%             6.000000          11.220000         1.000000     20.000000   \n",
       "50%            11.330000          18.450000         4.000000     46.000000   \n",
       "75%            21.460000          34.610000         9.000000    107.000000   \n",
       "max          2145.930000        2145.930000       189.000000   5684.000000   \n",
       "\n",
       "       number of ratings  number of tracks  number of versions  \\\n",
       "count       23124.000000      23124.000000        23124.000000   \n",
       "mean           13.932494          9.204290           18.103053   \n",
       "std            22.786896          9.102978           32.195916   \n",
       "min             0.000000          1.000000            0.000000   \n",
       "25%             4.000000          6.000000            2.000000   \n",
       "50%             8.000000          8.000000            6.000000   \n",
       "75%            16.000000         11.000000           20.000000   \n",
       "max           780.000000        889.000000          245.000000   \n",
       "\n",
       "       number on label  number on label for sale   number want  \n",
       "count     23124.000000              23124.000000  23124.000000  \n",
       "mean      14223.290088              90367.772228    121.305440  \n",
       "std       27328.508291             163528.201652    114.668566  \n",
       "min           1.000000                  0.000000     45.000000  \n",
       "25%         125.000000                591.750000     61.000000  \n",
       "50%        1141.500000               6986.500000     85.000000  \n",
       "75%       10269.000000              50299.250000    136.000000  \n",
       "max      198317.000000             616773.000000   3062.000000  "
      ]
     },
     "execution_count": 35,
     "metadata": {},
     "output_type": "execute_result"
    }
   ],
   "source": [
    "albums.describe()"
   ]
  },
  {
   "cell_type": "markdown",
   "metadata": {},
   "source": [
    "From the numeric fields above let's pick out as features anything that may be expected to influence the price."
   ]
  },
  {
   "cell_type": "code",
   "execution_count": 36,
   "metadata": {
    "collapsed": false
   },
   "outputs": [
    {
     "name": "stdout",
     "output_type": "stream",
     "text": [
      "Simple linear regression gives £25.75 mean difference and 0.1330 score\n"
     ]
    }
   ],
   "source": [
    "#Randomly shuffle the row order\n",
    "new_albums = albums.sample(frac=1)\n",
    "\n",
    "#Use the following predictors\n",
    "predictors = ['compilation','number for sale', 'number have', 'number of ratings', 'number of tracks',\n",
    "              'number of versions', 'number on label', 'number on label for sale', 'number want']\n",
    "\n",
    "#Do a linear regression\n",
    "alg = LinearRegression()\n",
    "\n",
    "#Split the data into 10 subsets\n",
    "kf = KFold(new_albums.shape[0], n_folds = 10, random_state = 1)\n",
    "predictions = []\n",
    "scores = []\n",
    "\n",
    "#Train and predict\n",
    "for train, test in kf:\n",
    "    X_train = (new_albums[predictors].iloc[train,:])\n",
    "    y_train = new_albums['median price sold'].iloc[train]\n",
    "    #Scale all the features\n",
    "    scaler = StandardScaler().fit(X_train)\n",
    "    X_train_transformed = scaler.transform(X_train)\n",
    "    alg.fit(X_train_transformed, y_train)\n",
    "    X_test = (new_albums[predictors].iloc[test,:])\n",
    "    y_test = new_albums['median price sold'].iloc[test]\n",
    "    test_predictions = alg.predict(scaler.transform(X_test))\n",
    "    predictions.append(test_predictions)\n",
    "\n",
    "predictions = np.concatenate(predictions,axis = 0)\n",
    "#If anything is predicted a negative price, set this to zero\n",
    "predictions[predictions<0] = 0\n",
    " \n",
    "mean_diff = get_mean_diff(np.array(new_albums['median price sold']), predictions)\n",
    "score = get_score(np.array(new_albums['median price sold']), predictions)\n",
    "print('Simple linear regression gives £{0:.2f} mean difference and {1:.4f} score'.format(mean_diff,score))"
   ]
  },
  {
   "cell_type": "markdown",
   "metadata": {},
   "source": [
    "Although not great, this is nevertheless an improvement on guessing the mean.\n",
    "\n",
    "Let's see which features have the most effect (they've been scaled, so the relative size will correspond to their importance)."
   ]
  },
  {
   "cell_type": "code",
   "execution_count": 37,
   "metadata": {
    "collapsed": false
   },
   "outputs": [
    {
     "name": "stdout",
     "output_type": "stream",
     "text": [
      "compilation coefficient is -3.14\n",
      "number for sale coefficient is -6.11\n",
      "number have coefficient is -2.55\n",
      "number of ratings coefficient is -8.64\n",
      "number of tracks coefficient is 3.32\n",
      "number of versions coefficient is -6.84\n",
      "number on label coefficient is 6.54\n",
      "number on label for sale coefficient is -7.91\n",
      "number want coefficient is 19.71\n"
     ]
    }
   ],
   "source": [
    "count = 0\n",
    "for name in predictors:\n",
    "    print('{0} coefficient is {1:.2f}'.format(name, alg.coef_[count]))\n",
    "    count = count+1"
   ]
  },
  {
   "cell_type": "markdown",
   "metadata": {},
   "source": [
    "So the most important factor is how many people want the album, as expected.  \n",
    "However features like number of tracks seem to be more important than number of people who have the album. \n",
    "This is unexpected and may be the result of overfitting.\n",
    "\n",
    "Let's regularise and see if we can reduce the variance and improve the score."
   ]
  },
  {
   "cell_type": "markdown",
   "metadata": {},
   "source": [
    "## Building a regressor: Ridge Regression\n",
    "\n",
    "Use ridge to reglarise the linear regression, and see what effect this has on the predictions and coefficients."
   ]
  },
  {
   "cell_type": "code",
   "execution_count": 38,
   "metadata": {
    "collapsed": true
   },
   "outputs": [],
   "source": [
    "from sklearn.linear_model import Ridge\n",
    "\n",
    "#Use the following predictors\n",
    "predictors = ['compilation','number for sale', 'number have', 'number of ratings', 'number of tracks',\n",
    "              'number of versions', 'number on label', 'number on label for sale', 'number want']\n",
    "\n",
    "alpha_list = [0, 3, 5, 10, 30, 50, 100, 300, 500, 1000, 3000, 5000, 10000, 30000, 50000, 100000, 300000, 500000, 1000000]\n",
    "mean_diff_list = []\n",
    "score_list = []\n",
    "coeff = {}\n",
    "\n",
    "for alpha in alpha_list:\n",
    "    \n",
    "    #Randomly shuffle the row order\n",
    "    new_albums = albums.sample(frac=1)\n",
    "    \n",
    "    #Do a ridge regression\n",
    "    alg = Ridge(alpha=alpha)\n",
    "\n",
    "    #Split the data into 10 subsets\n",
    "    kf = KFold(new_albums.shape[0], n_folds = 10, random_state = 1)\n",
    "    predictions = []\n",
    "    scores = []\n",
    "\n",
    "    #Train and predict\n",
    "    for train, test in kf:\n",
    "        X_train = (new_albums[predictors].iloc[train,:])\n",
    "        y_train = new_albums['median price sold'].iloc[train]\n",
    "        #Scale all the features\n",
    "        scaler = StandardScaler().fit(X_train)\n",
    "        X_train_transformed = scaler.transform(X_train)\n",
    "        alg.fit(X_train_transformed, y_train)\n",
    "        X_test = (new_albums[predictors].iloc[test,:])\n",
    "        y_test = new_albums['median price sold'].iloc[test]\n",
    "        test_predictions = alg.predict(scaler.transform(X_test))\n",
    "        predictions.append(test_predictions)\n",
    "\n",
    "    predictions = np.concatenate(predictions,axis = 0)\n",
    "    #If anything is predicted a negative price, set this to zero\n",
    "    predictions[predictions<0] = 0\n",
    " \n",
    "    mean_diff = get_mean_diff(np.array(new_albums['median price sold']), predictions)\n",
    "    score = get_score(np.array(new_albums['median price sold']), predictions)\n",
    "    \n",
    "    mean_diff_list.append(mean_diff)\n",
    "    score_list.append(score)\n",
    "    coeff[alpha] = alg.coef_"
   ]
  },
  {
   "cell_type": "code",
   "execution_count": 39,
   "metadata": {
    "collapsed": false
   },
   "outputs": [
    {
     "data": {
      "image/png": "[encoded data removed]",
      "text/plain": [
       "<matplotlib.figure.Figure at 0xc60dd68>"
      ]
     },
     "metadata": {},
     "output_type": "display_data"
    }
   ],
   "source": [
    "fig = plt.figure(figsize=(12,3))\n",
    "ax1 = fig.add_subplot(121)\n",
    "ax1.plot(alpha_list,mean_diff_list,'-or')\n",
    "ax1.set_title('mean diff vs. alpha')\n",
    "ax1.set_xscale('log')\n",
    "ax1.set_xlabel('alpha')\n",
    "ax1.set_ylabel('mean diff (£)')\n",
    "ax2 = fig.add_subplot(122)\n",
    "ax2.plot(alpha_list,score_list,'-ob')\n",
    "ax2.set_title('score vs. alpha')\n",
    "ax2.set_xscale('log')\n",
    "ax2.set_xlabel('alpha')\n",
    "ax2.set_ylabel('score');"
   ]
  },
  {
   "cell_type": "markdown",
   "metadata": {},
   "source": [
    "Regularisation makes little difference to the score until we start to excessively bias the predictor. Taking a value of alpha = 1000 gives:"
   ]
  },
  {
   "cell_type": "code",
   "execution_count": 42,
   "metadata": {
    "collapsed": false
   },
   "outputs": [
    {
     "name": "stdout",
     "output_type": "stream",
     "text": [
      "Regularised linear regression with alpha = 100 gives £25.78 mean difference and 0.1301 score\n"
     ]
    }
   ],
   "source": [
    "print('Regularised linear regression with alpha = 100 gives £{0:.2f} mean difference and {1:.4f} score'\n",
    "      .format(np.array(mean_diff_list)[np.array(alpha_list)==1000][0],\n",
    "              np.array(score_list)[np.array(alpha_list)==1000][0]))"
   ]
  },
  {
   "cell_type": "code",
   "execution_count": 43,
   "metadata": {
    "collapsed": false
   },
   "outputs": [
    {
     "name": "stdout",
     "output_type": "stream",
     "text": [
      "compilation coefficient is -3.12\n",
      "number for sale coefficient is -6.60\n",
      "number have coefficient is -4.32\n",
      "number of ratings coefficient is -4.87\n",
      "number of tracks coefficient is 3.10\n",
      "number of versions coefficient is -6.54\n",
      "number on label coefficient is 4.15\n",
      "number on label for sale coefficient is -5.59\n",
      "number want coefficient is 17.04\n"
     ]
    }
   ],
   "source": [
    "count = 0\n",
    "for name in predictors:\n",
    "    print('{0} coefficient is {1:.2f}'.format(name, coeff[1000][count]))\n",
    "    count = count+1"
   ]
  },
  {
   "cell_type": "markdown",
   "metadata": {},
   "source": [
    "This looks more as expected. The most important features are:  \n",
    "1) The more people want the album, the higher the price  \n",
    "2) The higher the number on sale, the lower the price  \n",
    "3) The higher the number of versions of the album, the lower the price  \n",
    "4) The higher the number on the label for sale, the lower the price \n",
    "5) The more people have the album, the lower the price\n",
    "\n",
    "These are all measures, more or less, of the popularity and rarity of the record."
   ]
  },
  {
   "cell_type": "markdown",
   "metadata": {},
   "source": [
    "## Building a regressor: Random Forest Regression\n",
    "\n",
    "Using all the initial features, let's see how well we can do with a more powerful algorithm - random forest regression."
   ]
  },
  {
   "cell_type": "code",
   "execution_count": 44,
   "metadata": {
    "collapsed": false
   },
   "outputs": [
    {
     "name": "stdout",
     "output_type": "stream",
     "text": [
      "Random forest regression gives £21.13 mean difference and 0.2588 score\n"
     ]
    }
   ],
   "source": [
    "from sklearn.ensemble import RandomForestRegressor\n",
    "\n",
    "#Randomly shuffle the row order\n",
    "new_albums = albums.sample(frac=1)\n",
    "\n",
    "#Use the following predictors\n",
    "predictors = ['compilation','number for sale', 'number have', 'number of ratings', 'number of tracks',\n",
    "              'number of versions', 'number on label', 'number on label for sale', 'number want']\n",
    "\n",
    "#Do a random forest regression\n",
    "alg = RandomForestRegressor()\n",
    "\n",
    "#Split the data into 10 subsets\n",
    "kf = KFold(new_albums.shape[0], n_folds = 10, random_state = 1)\n",
    "predictions = []\n",
    "scores = []\n",
    "\n",
    "#Train and predict\n",
    "for train, test in kf:\n",
    "    X_train = (new_albums[predictors].iloc[train,:])\n",
    "    y_train = new_albums['median price sold'].iloc[train]\n",
    "    #Scale all the features\n",
    "    scaler = StandardScaler().fit(X_train)\n",
    "    X_train_transformed = scaler.transform(X_train)\n",
    "    alg.fit(X_train_transformed, y_train)\n",
    "    X_test = (new_albums[predictors].iloc[test,:])\n",
    "    y_test = new_albums['median price sold'].iloc[test]\n",
    "    test_predictions = alg.predict(scaler.transform(X_test))\n",
    "    predictions.append(test_predictions)\n",
    "\n",
    "predictions = np.concatenate(predictions,axis = 0)\n",
    "#If anything is predicted a negative price, set this to zero\n",
    "predictions[predictions<0] = 0\n",
    " \n",
    "mean_diff = get_mean_diff(np.array(new_albums['median price sold']), predictions)\n",
    "score = get_score(np.array(new_albums['median price sold']), predictions)\n",
    "print('Random forest regression gives £{0:.2f} mean difference and {1:.4f} score'.format(mean_diff,score))"
   ]
  },
  {
   "cell_type": "markdown",
   "metadata": {},
   "source": [
    "This is already quite a bit better than linear regression, but let's try to optimise further."
   ]
  },
  {
   "cell_type": "code",
   "execution_count": 45,
   "metadata": {
    "collapsed": true
   },
   "outputs": [],
   "source": [
    "#Use the following predictors\n",
    "predictors = ['compilation','number for sale', 'number have', 'number of ratings', 'number of tracks',\n",
    "              'number of versions', 'number on label', 'number on label for sale', 'number want']\n",
    "\n",
    "#First optimise the minimum samples per leaf\n",
    "min_samples_leaf_list = [1, 3, 5, 10, 30, 50, 100]\n",
    "mean_diff_list = []\n",
    "score_list = []\n",
    "\n",
    "for min_samples_leaf in min_samples_leaf_list:\n",
    "    \n",
    "    #Randomly shuffle the row order\n",
    "    new_albums = albums.sample(frac=1)\n",
    "    \n",
    "    #Do a ridge regression\n",
    "    alg = RandomForestRegressor(min_samples_leaf = min_samples_leaf)\n",
    "\n",
    "    #Split the data into 10 subsets\n",
    "    kf = KFold(new_albums.shape[0], n_folds = 10, random_state = 1)\n",
    "    predictions = []\n",
    "    scores = []\n",
    "\n",
    "    #Train and predict\n",
    "    for train, test in kf:\n",
    "        X_train = (new_albums[predictors].iloc[train,:])\n",
    "        y_train = new_albums['median price sold'].iloc[train]\n",
    "        #Scale all the features\n",
    "        scaler = StandardScaler().fit(X_train)\n",
    "        X_train_transformed = scaler.transform(X_train)\n",
    "        alg.fit(X_train_transformed, y_train)\n",
    "        X_test = (new_albums[predictors].iloc[test,:])\n",
    "        y_test = new_albums['median price sold'].iloc[test]\n",
    "        test_predictions = alg.predict(scaler.transform(X_test))\n",
    "        predictions.append(test_predictions)\n",
    "\n",
    "    predictions = np.concatenate(predictions,axis = 0)\n",
    "    #If anything is predicted a negative price, set this to zero\n",
    "    predictions[predictions<0] = 0\n",
    " \n",
    "    mean_diff = get_mean_diff(np.array(new_albums['median price sold']), predictions)\n",
    "    score = get_score(np.array(new_albums['median price sold']), predictions)\n",
    "    \n",
    "    mean_diff_list.append(mean_diff)\n",
    "    score_list.append(score)"
   ]
  },
  {
   "cell_type": "code",
   "execution_count": 46,
   "metadata": {
    "collapsed": false
   },
   "outputs": [
    {
     "data": {
      "image/png": "[encoded data removed]",
      "text/plain": [
       "<matplotlib.figure.Figure at 0x14c24320>"
      ]
     },
     "metadata": {},
     "output_type": "display_data"
    }
   ],
   "source": [
    "fig = plt.figure(figsize=(12,3))\n",
    "ax1 = fig.add_subplot(121)\n",
    "ax1.plot(min_samples_leaf_list,mean_diff_list,'-or')\n",
    "ax1.set_title('mean diff vs. min samples on leaf')\n",
    "ax1.set_xscale('log')\n",
    "ax1.set_xlabel('min samples on leaf')\n",
    "ax1.set_ylabel('mean diff (£)')\n",
    "ax2 = fig.add_subplot(122)\n",
    "ax2.plot(min_samples_leaf_list,score_list,'-ob')\n",
    "ax2.set_title('score vs. min samples on leaf')\n",
    "ax2.set_xscale('log')\n",
    "ax2.set_xlabel('min samples on leaf')\n",
    "ax2.set_ylabel('score');"
   ]
  },
  {
   "cell_type": "markdown",
   "metadata": {},
   "source": [
    "A minimum of 10 samples on each leaf seems to balance between excess bias and variance."
   ]
  },
  {
   "cell_type": "code",
   "execution_count": 47,
   "metadata": {
    "collapsed": true
   },
   "outputs": [],
   "source": [
    "#Use the following predictors\n",
    "predictors = ['compilation','number for sale', 'number have', 'number of ratings', 'number of tracks',\n",
    "              'number of versions', 'number on label', 'number on label for sale', 'number want']\n",
    "\n",
    "#Secondly optimise the number of trees\n",
    "n_estimators_list = [1, 3, 5, 10, 30, 50, 100]\n",
    "mean_diff_list = []\n",
    "score_list = []\n",
    "\n",
    "for n_estimators in n_estimators_list:\n",
    "    \n",
    "    #Randomly shuffle the row order\n",
    "    new_albums = albums.sample(frac=1)\n",
    "    \n",
    "    #Do a ridge regression\n",
    "    alg = RandomForestRegressor(min_samples_leaf = 10, n_estimators = n_estimators)\n",
    "\n",
    "    #Split the data into 10 subsets\n",
    "    kf = KFold(new_albums.shape[0], n_folds = 10, random_state = 1)\n",
    "    predictions = []\n",
    "    scores = []\n",
    "\n",
    "    #Train and predict\n",
    "    for train, test in kf:\n",
    "        X_train = (new_albums[predictors].iloc[train,:])\n",
    "        y_train = new_albums['median price sold'].iloc[train]\n",
    "        #Scale all the features\n",
    "        scaler = StandardScaler().fit(X_train)\n",
    "        X_train_transformed = scaler.transform(X_train)\n",
    "        alg.fit(X_train_transformed, y_train)\n",
    "        X_test = (new_albums[predictors].iloc[test,:])\n",
    "        y_test = new_albums['median price sold'].iloc[test]\n",
    "        test_predictions = alg.predict(scaler.transform(X_test))\n",
    "        predictions.append(test_predictions)\n",
    "\n",
    "    predictions = np.concatenate(predictions,axis = 0)\n",
    "    #If anything is predicted a negative price, set this to zero\n",
    "    predictions[predictions<0] = 0\n",
    " \n",
    "    mean_diff = get_mean_diff(np.array(new_albums['median price sold']), predictions)\n",
    "    score = get_score(np.array(new_albums['median price sold']), predictions)\n",
    "    \n",
    "    mean_diff_list.append(mean_diff)\n",
    "    score_list.append(score)"
   ]
  },
  {
   "cell_type": "code",
   "execution_count": 48,
   "metadata": {
    "collapsed": false
   },
   "outputs": [
    {
     "data": {
      "image/png": "[encoded data removed]",
      "text/plain": [
       "<matplotlib.figure.Figure at 0x15140358>"
      ]
     },
     "metadata": {},
     "output_type": "display_data"
    }
   ],
   "source": [
    "fig = plt.figure(figsize=(12,3))\n",
    "ax1 = fig.add_subplot(121)\n",
    "ax1.plot(n_estimators_list,mean_diff_list,'-or')\n",
    "ax1.set_title('mean diff vs. number of trees')\n",
    "ax1.set_xscale('log')\n",
    "ax1.set_xlabel('number of trees')\n",
    "ax1.set_ylabel('mean diff (£)')\n",
    "ax2 = fig.add_subplot(122)\n",
    "ax2.plot(n_estimators_list,score_list,'-ob')\n",
    "ax2.set_title('score vs. number of trees')\n",
    "ax2.set_xscale('log')\n",
    "ax2.set_xlabel('number of trees')\n",
    "ax2.set_ylabel('score');"
   ]
  },
  {
   "cell_type": "markdown",
   "metadata": {},
   "source": [
    "The more trees the better obviously, but 30 seems to be most of the way there."
   ]
  },
  {
   "cell_type": "code",
   "execution_count": 50,
   "metadata": {
    "collapsed": false
   },
   "outputs": [
    {
     "name": "stdout",
     "output_type": "stream",
     "text": [
      "Random forest regression with min_samples_leaf = 10 and n_estimators = 30 gives £19.43 mean difference and 0.3454 score\n"
     ]
    }
   ],
   "source": [
    "print('Random forest regression with min_samples_leaf = 10 and n_estimators = 30 gives £{0:.2f} mean difference and {1:.4f} score'\n",
    "      .format(np.array(mean_diff_list)[np.array(n_estimators_list)==30][0],\n",
    "              np.array(score_list)[np.array(n_estimators_list)==30][0]))"
   ]
  },
  {
   "cell_type": "markdown",
   "metadata": {},
   "source": [
    "Let's use this random forest regressor as the prediction algorithm for evaluating new features."
   ]
  }
 ],
 "metadata": {
  "kernelspec": {
   "display_name": "Python 3",
   "language": "python",
   "name": "python3"
  },
  "language_info": {
   "codemirror_mode": {
    "name": "ipython",
    "version": 3
   },
   "file_extension": ".py",
   "mimetype": "text/x-python",
   "name": "python",
   "nbconvert_exporter": "python",
   "pygments_lexer": "ipython3",
   "version": "3.5.2"
  }
 },
 "nbformat": 4,
 "nbformat_minor": 0
}
