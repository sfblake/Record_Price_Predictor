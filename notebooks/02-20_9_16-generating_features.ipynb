{
 "cells": [
  {
   "cell_type": "code",
   "execution_count": 1,
   "metadata": {
    "collapsed": true
   },
   "outputs": [],
   "source": [
    "%matplotlib inline\n",
    "import pandas as pd\n",
    "import numpy as np\n",
    "import matplotlib.pyplot as plt"
   ]
  },
  {
   "cell_type": "code",
   "execution_count": 2,
   "metadata": {
    "collapsed": false
   },
   "outputs": [],
   "source": [
    "albums = pd.read_csv('../data/raw/albums.csv',encoding='utf-8',index_col=0)\n",
    "#Pick out only the albums that have been sold\n",
    "albums = albums[pd.notnull(albums['median price sold'])]"
   ]
  },
  {
   "cell_type": "code",
   "execution_count": 3,
   "metadata": {
    "collapsed": true
   },
   "outputs": [],
   "source": [
    "#Define our cost measures\n",
    "def get_mean_diff(y_test,y_pred):\n",
    "    \"\"\"Calculate the mean difference between test and prediction\"\"\"\n",
    "    mean_diff = np.mean(abs(y_test - y_pred))\n",
    "    return mean_diff\n",
    "\n",
    "def get_score(y_test, y_pred):\n",
    "    \"\"\"Calculate the R^2 score from two numpy array inputs, using a guess of the median as a benchmark\"\"\"\n",
    "    u = sum((y_test - y_pred)**2)\n",
    "    v = sum((y_test - np.mean(y_test))**2)\n",
    "    R_sq = 1 - u/v\n",
    "    return R_sq"
   ]
  },
  {
   "cell_type": "code",
   "execution_count": 4,
   "metadata": {
    "collapsed": true
   },
   "outputs": [],
   "source": [
    "from sklearn.ensemble import RandomForestRegressor\n",
    "from sklearn.cross_validation import KFold\n",
    "from sklearn.preprocessing import StandardScaler\n",
    "\n",
    "#Define our predicting algorithm\n",
    "def get_random_forest_predictions(new_albums, predictors):\n",
    "    \"\"\"Predict the price of each recors in albums from the features in predictors, using a random forest regressor\"\"\"\n",
    "\n",
    "    #Do a random forest regression\n",
    "    alg = RandomForestRegressor(min_samples_leaf = 3, n_estimators = 100)\n",
    "\n",
    "    #Split the data into 10 subsets\n",
    "    kf = KFold(new_albums.shape[0], n_folds = 10, random_state = 1)\n",
    "    predictions = []\n",
    "    scores = []\n",
    "\n",
    "    #Train and predict\n",
    "    for train, test in kf:\n",
    "        X_train = (new_albums[predictors].iloc[train,:])\n",
    "        y_train = new_albums['median price sold'].iloc[train]\n",
    "        #Scale all the features\n",
    "        scaler = StandardScaler().fit(X_train)\n",
    "        X_train_transformed = scaler.transform(X_train)\n",
    "        alg.fit(X_train_transformed, y_train)\n",
    "        X_test = (new_albums[predictors].iloc[test,:])\n",
    "        y_test = new_albums['median price sold'].iloc[test]\n",
    "        test_predictions = alg.predict(scaler.transform(X_test))\n",
    "        predictions.append(test_predictions)\n",
    "\n",
    "    predictions = np.concatenate(predictions,axis = 0)\n",
    "    #If anything is predicted a negative price, set this to zero\n",
    "    predictions[predictions<0] = 0\n",
    "    \n",
    "    return predictions"
   ]
  },
  {
   "cell_type": "markdown",
   "metadata": {},
   "source": [
    "Before adding any more features, let's check the performance with the initial set."
   ]
  },
  {
   "cell_type": "code",
   "execution_count": 5,
   "metadata": {
    "collapsed": false
   },
   "outputs": [
    {
     "name": "stdout",
     "output_type": "stream",
     "text": [
      "Random forest regression on initial features gives £19.64 mean difference and 0.3423 score\n"
     ]
    }
   ],
   "source": [
    "#Use the following predictors\n",
    "predictors = ['compilation','number for sale', 'number have', 'number of ratings', 'number of tracks',\n",
    "              'number of versions', 'number on label', 'number on label for sale', 'number want']\n",
    "\n",
    "#Randomly shuffle the row order\n",
    "new_albums = albums.sample(frac=1)\n",
    "\n",
    "#Generate predictions\n",
    "predictions = get_random_forest_predictions(new_albums, predictors)\n",
    "\n",
    "#Calculate\n",
    "mean_diff = get_mean_diff(np.array(new_albums['median price sold']), predictions)\n",
    "score = get_score(np.array(new_albums['median price sold']), predictions)\n",
    "\n",
    "print('Random forest regression on initial features'\n",
    "      ' gives £{0:.2f} mean difference and {1:.4f} score'.format(mean_diff,score))"
   ]
  },
  {
   "cell_type": "markdown",
   "metadata": {},
   "source": [
    "Let's monitor how these (hopefully) improve as we add more features."
   ]
  },
  {
   "cell_type": "code",
   "execution_count": 6,
   "metadata": {
    "collapsed": true
   },
   "outputs": [],
   "source": [
    "mean_diff_each_step = [mean_diff]\n",
    "score_each_step = [score]\n",
    "each_step = ['Initial features']"
   ]
  },
  {
   "cell_type": "markdown",
   "metadata": {},
   "source": [
    "## Year of release\n",
    "\n",
    "This should have a large bearing on the price, but the years of some releases are unknown. Let's make some assumptions about these to generate the feature."
   ]
  },
  {
   "cell_type": "code",
   "execution_count": 7,
   "metadata": {
    "collapsed": true
   },
   "outputs": [],
   "source": [
    "#Convert the known years to integers\n",
    "albums['integer year'] = [int(year[-4:]) if not pd.isnull(year) else year for year in albums['year']]\n",
    "\n",
    "#For the unknown years\n",
    "for index in albums[albums['year'].isnull()].index:\n",
    "    ave_artist_year = np.round(albums.ix[albums['artist'] == albums.ix[index,'artist'],'integer year'].mean())\n",
    "    ave_label_year = np.round(albums.ix[albums['label'] == albums.ix[index,'label'],'integer year'].mean())\n",
    "    #If the artist has released other albums, take the year to be the artist's mean\n",
    "    if not pd.isnull(ave_artist_year):\n",
    "        albums.ix[index,'integer year'] = ave_artist_year\n",
    "    #Otherwise if the label has released other albums, take the year to be the label's mean\n",
    "    elif not pd.isnull(ave_label_year):\n",
    "        albums.ix[index,'integer year'] = ave_label_year\n",
    "    #Otherwise set the year to be the mean\n",
    "    else:\n",
    "        albums.ix[index,'integer year'] = albums['integer year'].mean()"
   ]
  },
  {
   "cell_type": "code",
   "execution_count": 8,
   "metadata": {
    "collapsed": false
   },
   "outputs": [
    {
     "name": "stdout",
     "output_type": "stream",
     "text": [
      "Random forest regression with year added gives £18.29 mean difference and 0.4012 score\n"
     ]
    }
   ],
   "source": [
    "predictors = ['compilation','number for sale', 'number have', 'number of ratings', 'number of tracks',\n",
    "              'number of versions', 'number on label', 'number on label for sale', 'number want', \n",
    "              'integer year']\n",
    "\n",
    "#Randomly shuffle the row order\n",
    "new_albums = albums.sample(frac=1)\n",
    "\n",
    "#Generate predictions\n",
    "predictions = get_random_forest_predictions(new_albums, predictors)\n",
    "\n",
    "#Calculate\n",
    "mean_diff = get_mean_diff(np.array(new_albums['median price sold']), predictions)\n",
    "score = get_score(np.array(new_albums['median price sold']), predictions)\n",
    "\n",
    "print('Random forest regression with year added'\n",
    "      ' gives £{0:.2f} mean difference and {1:.4f} score'.format(mean_diff,score))\n",
    "\n",
    "mean_diff_each_step.append(mean_diff)\n",
    "score_each_step.append(score)\n",
    "each_step.append('Year of release')"
   ]
  },
  {
   "cell_type": "markdown",
   "metadata": {},
   "source": [
    "So knowing the year helps a lot."
   ]
  },
  {
   "cell_type": "markdown",
   "metadata": {},
   "source": [
    "## Average rating\n",
    "\n",
    "A lot of releases also have a rating given by users."
   ]
  },
  {
   "cell_type": "code",
   "execution_count": 9,
   "metadata": {
    "collapsed": false
   },
   "outputs": [
    {
     "data": {
      "image/png": "[encoded data removed]",
      "text/plain": [
       "<matplotlib.figure.Figure at 0x9d53d68>"
      ]
     },
     "metadata": {},
     "output_type": "display_data"
    }
   ],
   "source": [
    "albums[~albums['average rating'].isnull()]['average rating'].hist(bins=100)\n",
    "plt.xlabel('Average Rating')\n",
    "plt.ylabel('Count')\n",
    "plt.title('Distribution of average ratings');"
   ]
  },
  {
   "cell_type": "code",
   "execution_count": 10,
   "metadata": {
    "collapsed": false
   },
   "outputs": [
    {
     "name": "stdout",
     "output_type": "stream",
     "text": [
      "1* rated albums have mean price £38.79\n",
      "2* rated albums have mean price £32.74\n",
      "3* rated albums have mean price £36.40\n",
      "4* rated albums have mean price £24.29\n",
      "5* rated albums have mean price £37.11\n",
      "Unrated albums have mean price £41.45\n"
     ]
    }
   ],
   "source": [
    "for i in range(1,6):\n",
    "    print(str(i) + '* rated albums have mean price £{0:.2f}'.format(albums.ix[(albums['average rating'] <= i)\n",
    "                                                                               & (albums['average rating'] > i-1),\n",
    "                                                                              'median price sold'].mean()))\n",
    "print('Unrated albums have mean price £{0:.2f}'.format(albums.ix[albums['average rating'].isnull(),\n",
    "                                                                       'median price sold'].mean()))"
   ]
  },
  {
   "cell_type": "markdown",
   "metadata": {},
   "source": [
    "These are distributed towards the high end (as expected: we're looking at the most wanted records), but a higher rating does not necessarily correspond to a more expensive record.\n",
    "\n",
    "Let's first try giving the unrated records the mean rating."
   ]
  },
  {
   "cell_type": "code",
   "execution_count": 11,
   "metadata": {
    "collapsed": false
   },
   "outputs": [
    {
     "name": "stdout",
     "output_type": "stream",
     "text": [
      "Assuming the mean rating for those releases unrated gives £18.33 mean difference and 0.4007 score\n"
     ]
    }
   ],
   "source": [
    "#If no rating is given, set it to be the average\n",
    "albums['new rating'] = albums['average rating']\n",
    "albums.ix[albums['new rating'].isnull(),'new rating'] = albums['new rating'].mean()\n",
    "\n",
    "predictors = ['compilation','number for sale', 'number have', 'number of ratings', 'number of tracks',\n",
    "              'number of versions', 'number on label', 'number on label for sale', 'number want', \n",
    "              'integer year', 'new rating']\n",
    "\n",
    "#Randomly shuffle the row order\n",
    "new_albums = albums.sample(frac=1)\n",
    "\n",
    "#Generate predictions\n",
    "predictions = get_random_forest_predictions(new_albums, predictors)\n",
    "\n",
    "#Calculate\n",
    "mean_diff = get_mean_diff(np.array(new_albums['median price sold']), predictions)\n",
    "score = get_score(np.array(new_albums['median price sold']), predictions)\n",
    "\n",
    "print('Assuming the mean rating for those releases unrated'\n",
    "      ' gives £{0:.2f} mean difference and {1:.4f} score'.format(mean_diff,score))"
   ]
  },
  {
   "cell_type": "markdown",
   "metadata": {},
   "source": [
    "What about setting the unrated records to 0, or 6?"
   ]
  },
  {
   "cell_type": "code",
   "execution_count": 12,
   "metadata": {
    "collapsed": false
   },
   "outputs": [
    {
     "name": "stdout",
     "output_type": "stream",
     "text": [
      "Assuming a rating of 0 for those releases unrated gives £18.40 mean difference and 0.4018 score\n"
     ]
    }
   ],
   "source": [
    "#If no rating is given, set it to be the average\n",
    "albums['new rating'] = albums['average rating']\n",
    "albums.ix[albums['new rating'].isnull(),'new rating'] = 0\n",
    "\n",
    "predictors = ['compilation','number for sale', 'number have', 'number of ratings', 'number of tracks',\n",
    "              'number of versions', 'number on label', 'number on label for sale', 'number want', \n",
    "              'integer year', 'new rating']\n",
    "\n",
    "#Randomly shuffle the row order\n",
    "new_albums = albums.sample(frac=1)\n",
    "\n",
    "#Generate predictions\n",
    "predictions = get_random_forest_predictions(new_albums, predictors)\n",
    "\n",
    "#Calculate\n",
    "mean_diff = get_mean_diff(np.array(new_albums['median price sold']), predictions)\n",
    "score = get_score(np.array(new_albums['median price sold']), predictions)\n",
    "\n",
    "print('Assuming a rating of 0 for those releases unrated'\n",
    "      ' gives £{0:.2f} mean difference and {1:.4f} score'.format(mean_diff,score))"
   ]
  },
  {
   "cell_type": "code",
   "execution_count": 13,
   "metadata": {
    "collapsed": false
   },
   "outputs": [
    {
     "name": "stdout",
     "output_type": "stream",
     "text": [
      "Assuming a rating of 6 for those releases unrated gives £18.33 mean difference and 0.4021 score\n"
     ]
    }
   ],
   "source": [
    "#If no rating is given, set it to be the average\n",
    "albums['new rating'] = albums['average rating']\n",
    "albums.ix[albums['new rating'].isnull(),'new rating'] = 6\n",
    "\n",
    "predictors = ['compilation','number for sale', 'number have', 'number of ratings', 'number of tracks',\n",
    "              'number of versions', 'number on label', 'number on label for sale', 'number want', \n",
    "              'integer year', 'new rating']\n",
    "\n",
    "#Randomly shuffle the row order\n",
    "new_albums = albums.sample(frac=1)\n",
    "\n",
    "#Generate predictions\n",
    "predictions = get_random_forest_predictions(new_albums, predictors)\n",
    "\n",
    "#Calculate\n",
    "mean_diff = get_mean_diff(np.array(new_albums['median price sold']), predictions)\n",
    "score = get_score(np.array(new_albums['median price sold']), predictions)\n",
    "\n",
    "print('Assuming a rating of 6 for those releases unrated'\n",
    "      ' gives £{0:.2f} mean difference and {1:.4f} score'.format(mean_diff,score))"
   ]
  },
  {
   "cell_type": "markdown",
   "metadata": {},
   "source": [
    "So assigning a 6 for the unrated items gives the best score."
   ]
  },
  {
   "cell_type": "code",
   "execution_count": 14,
   "metadata": {
    "collapsed": false
   },
   "outputs": [],
   "source": [
    "albums.ix[albums['average rating'].isnull(),'average rating'] = 6\n",
    "\n",
    "predictors = ['compilation','number for sale', 'number have', 'number of ratings', 'number of tracks',\n",
    "              'number of versions', 'number on label', 'number on label for sale', 'number want', \n",
    "              'integer year', 'average rating']\n",
    "\n",
    "#Randomly shuffle the row order\n",
    "new_albums = albums.sample(frac=1)\n",
    "\n",
    "#Generate predictions\n",
    "predictions = get_random_forest_predictions(new_albums, predictors)\n",
    "\n",
    "#Calculate\n",
    "mean_diff = get_mean_diff(np.array(new_albums['median price sold']), predictions)\n",
    "score = get_score(np.array(new_albums['median price sold']), predictions)\n",
    "\n",
    "mean_diff_each_step.append(mean_diff)\n",
    "score_each_step.append(score)\n",
    "each_step.append('Average rating')"
   ]
  },
  {
   "cell_type": "markdown",
   "metadata": {},
   "source": [
    "## Number of records \n",
    "Obviously all the records are LPs, but some may be double or even triple, let's add a feature of the number of records."
   ]
  },
  {
   "cell_type": "code",
   "execution_count": 15,
   "metadata": {
    "collapsed": false
   },
   "outputs": [
    {
     "data": {
      "text/plain": [
       "array(['Vinyl', '2 × Vinyl', '3 × Vinyl', '4 × Vinyl', '13 × Vinyl',\n",
       "       '6 × Vinyl', 'Box Set', '10 × Vinyl', '5 × Vinyl', '14 × Vinyl',\n",
       "       '7 × Vinyl', '9 × Vinyl', 'Box Set 6 × Vinyl', '11 × Vinyl',\n",
       "       'Box Set 3 × Vinyl', 'Box Set 2 × Vinyl', '12 × Vinyl',\n",
       "       'Box Set 10 × Vinyl', '16 × Vinyl', '18 × Vinyl'], dtype=object)"
      ]
     },
     "execution_count": 15,
     "metadata": {},
     "output_type": "execute_result"
    }
   ],
   "source": [
    "albums['format'].unique()"
   ]
  },
  {
   "cell_type": "code",
   "execution_count": 16,
   "metadata": {
    "collapsed": false
   },
   "outputs": [
    {
     "name": "stdout",
     "output_type": "stream",
     "text": [
      "For boxsets we have £15.45 mean difference and 0.3669 score\n"
     ]
    }
   ],
   "source": [
    "mean_diff = get_mean_diff(np.array(new_albums['median price sold'][new_albums['format']!='Vinyl']),\n",
    "                          predictions[np.array(new_albums['format']!='Vinyl')])\n",
    "score = get_score(np.array(new_albums['median price sold'][new_albums['format']!='Vinyl']),\n",
    "                  predictions[np.array(new_albums['format']!='Vinyl')])\n",
    "print('For boxsets we have £{0:.2f} mean difference and {1:.4f} score'.format(mean_diff, score))"
   ]
  },
  {
   "cell_type": "markdown",
   "metadata": {},
   "source": [
    "So these boxsets are not being served well by the current predictor."
   ]
  },
  {
   "cell_type": "code",
   "execution_count": 17,
   "metadata": {
    "collapsed": true
   },
   "outputs": [],
   "source": [
    "#If the format is 'Vinyl', assume one record\n",
    "#Otherwise extract the number\n",
    "albums['number of records'] = [1 if format_str == 'Vinyl' \n",
    "                               else [s for s in format_str.split() if s.isdigit()][0] if '×' in format_str\n",
    "                               else None\n",
    "                              for format_str in albums['format']]\n",
    "#For the formats labelled just 'box set' look for the number of records in format details\n",
    "for index in albums[albums['number of records'].isnull()].index:\n",
    "    split_formats = albums.ix[index, 'format details'].split(';')\n",
    "    num_records = [[s for s in format_str.split() if s.isdigit()][0] \n",
    "                   for format_str in split_formats if '×' in format_str]\n",
    "    #Assume the maximum number is correct\n",
    "    if len(num_records) != 0:\n",
    "        albums.ix[index,'number of records'] = max(num_records)\n",
    "    #If no number specified, assume 1\n",
    "    else:\n",
    "        albums.ix[index,'number of records'] = 1"
   ]
  },
  {
   "cell_type": "code",
   "execution_count": 18,
   "metadata": {
    "collapsed": false
   },
   "outputs": [
    {
     "name": "stdout",
     "output_type": "stream",
     "text": [
      "Random forest with number of records added gives £18.00 mean difference and 0.4124 score\n"
     ]
    }
   ],
   "source": [
    "predictors = ['compilation','number for sale', 'number have', 'number of ratings', 'number of tracks',\n",
    "              'number of versions', 'number on label', 'number on label for sale', 'number want', \n",
    "              'integer year', 'average rating', 'number of records']\n",
    "\n",
    "#Randomly shuffle the row order\n",
    "new_albums = albums.sample(frac=1)\n",
    "\n",
    "#Generate predictions\n",
    "predictions = get_random_forest_predictions(new_albums, predictors)\n",
    "\n",
    "#Calculate\n",
    "mean_diff = get_mean_diff(np.array(new_albums['median price sold']), predictions)\n",
    "score = get_score(np.array(new_albums['median price sold']), predictions)\n",
    "\n",
    "print('Random forest with number of records added'\n",
    "      ' gives £{0:.2f} mean difference and {1:.4f} score'.format(mean_diff,score))\n",
    "\n",
    "mean_diff_each_step.append(mean_diff)\n",
    "score_each_step.append(score)\n",
    "each_step.append('Number of records')"
   ]
  },
  {
   "cell_type": "code",
   "execution_count": 19,
   "metadata": {
    "collapsed": false
   },
   "outputs": [
    {
     "name": "stdout",
     "output_type": "stream",
     "text": [
      "For boxsets we now have £14.33 mean difference and 0.4546 score\n"
     ]
    }
   ],
   "source": [
    "mean_diff = get_mean_diff(np.array(new_albums['median price sold'][new_albums['format']!='Vinyl']),\n",
    "                          predictions[np.array(new_albums['format']!='Vinyl')])\n",
    "score = get_score(np.array(new_albums['median price sold'][new_albums['format']!='Vinyl']),\n",
    "                  predictions[np.array(new_albums['format']!='Vinyl')])\n",
    "print('For boxsets we now have £{0:.2f} mean difference and {1:.4f} score'.format(mean_diff, score))"
   ]
  },
  {
   "cell_type": "markdown",
   "metadata": {},
   "source": [
    "So adding the number of records doesn't affect the score much, but offers a great improvement for boxsets themselves."
   ]
  },
  {
   "cell_type": "markdown",
   "metadata": {
    "collapsed": true
   },
   "source": [
    "## Limited editions\n",
    "\n",
    "Some records are described as 'limited edition' in either the format details or release notes. This could correlate with higher prices so let's add a binary variable for it."
   ]
  },
  {
   "cell_type": "code",
   "execution_count": 20,
   "metadata": {
    "collapsed": true
   },
   "outputs": [],
   "source": [
    "#Pick out if limited edition is specified in format details or notes\n",
    "albums.ix[albums['notes'].isnull(),'notes'] = ''\n",
    "albums['limited edition'] = [(('Limited Edition' in albums.ix[index,'format details']) or \n",
    "                              ('Limited Edition' in albums.ix[index,'notes']))\n",
    "                             for index in albums.index]"
   ]
  },
  {
   "cell_type": "code",
   "execution_count": 21,
   "metadata": {
    "collapsed": false
   },
   "outputs": [
    {
     "name": "stdout",
     "output_type": "stream",
     "text": [
      "Limited edition albums have mean price £38.76\n",
      "Non-limited edition albums have mean price £35.06\n"
     ]
    }
   ],
   "source": [
    "print('Limited edition albums have mean price £{0:.2f}'.format(albums.ix[albums['limited edition'] == 1,\n",
    "                                                                         'median price sold'].mean()))\n",
    "print('Non-limited edition albums have mean price £{0:.2f}'.format(albums.ix[albums['limited edition'] == 0,\n",
    "                                                                         'median price sold'].mean()))"
   ]
  },
  {
   "cell_type": "code",
   "execution_count": 22,
   "metadata": {
    "collapsed": false
   },
   "outputs": [
    {
     "name": "stdout",
     "output_type": "stream",
     "text": [
      "Random forest with limited edition added gives £18.08 mean difference and 0.4018 score\n"
     ]
    }
   ],
   "source": [
    "predictors = ['compilation','number for sale', 'number have', 'number of ratings', 'number of tracks',\n",
    "              'number of versions', 'number on label', 'number on label for sale', 'number want', \n",
    "              'integer year', 'average rating', 'number of records', 'limited edition']\n",
    "\n",
    "#Randomly shuffle the row order\n",
    "new_albums = albums.sample(frac=1)\n",
    "\n",
    "#Generate predictions\n",
    "predictions = get_random_forest_predictions(new_albums, predictors)\n",
    "\n",
    "#Calculate\n",
    "mean_diff = get_mean_diff(np.array(new_albums['median price sold']), predictions)\n",
    "score = get_score(np.array(new_albums['median price sold']), predictions)\n",
    "\n",
    "print('Random forest with limited edition added'\n",
    "      ' gives £{0:.2f} mean difference and {1:.4f} score'.format(mean_diff,score))\n",
    "\n",
    "mean_diff_each_step.append(mean_diff)\n",
    "score_each_step.append(score)\n",
    "each_step.append('Limited edition')"
   ]
  },
  {
   "cell_type": "markdown",
   "metadata": {},
   "source": [
    "Seems to make it worse."
   ]
  },
  {
   "cell_type": "markdown",
   "metadata": {},
   "source": [
    "## Reissues\n",
    "\n",
    "Reissues are likely to be cheaper, while the original records that have been reissued will be more in demand, and so more expensive.  \n",
    "Some reissues are specified in the format details and notes."
   ]
  },
  {
   "cell_type": "code",
   "execution_count": 23,
   "metadata": {
    "collapsed": true
   },
   "outputs": [],
   "source": [
    "#Pick out if reissue is specified in format details or notes\n",
    "albums.ix[albums['notes'].isnull(),'notes'] = ''\n",
    "albums['reissue'] = [(('Reissue' in albums.ix[index,'format details']) or ('Reissue' in albums.ix[index,'notes'])) \n",
    "                     for index in albums.index]"
   ]
  },
  {
   "cell_type": "code",
   "execution_count": 24,
   "metadata": {
    "collapsed": false
   },
   "outputs": [
    {
     "name": "stdout",
     "output_type": "stream",
     "text": [
      "Reissue albums have mean price £20.38\n",
      "Non-reissue albums have mean price £39.12\n"
     ]
    }
   ],
   "source": [
    "print('Reissue albums have mean price £{0:.2f}'.format(albums.ix[albums['reissue'] == 1,\n",
    "                                                                         'median price sold'].mean()))\n",
    "print('Non-reissue albums have mean price £{0:.2f}'.format(albums.ix[albums['reissue'] == 0,\n",
    "                                                                             'median price sold'].mean()))"
   ]
  },
  {
   "cell_type": "code",
   "execution_count": 26,
   "metadata": {
    "collapsed": false
   },
   "outputs": [
    {
     "name": "stdout",
     "output_type": "stream",
     "text": [
      "Random forest with reissue added gives £18.03 mean difference and 0.4012 score\n"
     ]
    }
   ],
   "source": [
    "predictors = ['compilation','number for sale', 'number have', 'number of ratings', 'number of tracks',\n",
    "              'number of versions', 'number on label', 'number on label for sale', 'number want', \n",
    "              'integer year', 'average rating', 'number of records', 'limited edition', 'reissue']\n",
    "\n",
    "#Randomly shuffle the row order\n",
    "new_albums = albums.sample(frac=1)\n",
    "\n",
    "#Generate predictions\n",
    "predictions = get_random_forest_predictions(new_albums, predictors)\n",
    "\n",
    "#Calculate\n",
    "mean_diff = get_mean_diff(np.array(new_albums['median price sold']), predictions)\n",
    "score = get_score(np.array(new_albums['median price sold']), predictions)\n",
    "\n",
    "print('Random forest with reissue added'\n",
    "      ' gives £{0:.2f} mean difference and {1:.4f} score'.format(mean_diff,score))"
   ]
  },
  {
   "cell_type": "markdown",
   "metadata": {},
   "source": [
    "Not a great difference, and makes no distinction whether a record has itself been reissued.  \n",
    "We could perhaps get a better grasp of reissues if we look at the difference between year of release between versions."
   ]
  },
  {
   "cell_type": "code",
   "execution_count": 27,
   "metadata": {
    "collapsed": true
   },
   "outputs": [],
   "source": [
    "#If other versions have been released, find the difference to the earliest and latest versions\n",
    "albums.ix[albums['years of versions'].isnull(),'years of versions'] = ''\n",
    "\n",
    "albums['list version years'] = [[int(s) for s in albums.ix[index,'years of versions'].split('; ') if s.isdigit()] \n",
    "                                + [int(albums.ix[index,'integer year'])] for index in albums.index]\n",
    "\n",
    "albums['difference to earliest version'] = [min(albums.ix[index,'list version years']) - int(albums.ix[index,'integer year'])\n",
    "                                            for index in albums.index]\n",
    "albums['difference to latest version'] = [max(albums.ix[index,'list version years']) - int(albums.ix[index,'integer year'])\n",
    "                                          for index in albums.index]"
   ]
  },
  {
   "cell_type": "code",
   "execution_count": 28,
   "metadata": {
    "collapsed": false
   },
   "outputs": [
    {
     "name": "stdout",
     "output_type": "stream",
     "text": [
      "Random forest with years to reissues added gives £17.86 mean difference and 0.4075 score\n"
     ]
    }
   ],
   "source": [
    "predictors = ['compilation','number for sale', 'number have', 'number of ratings', 'number of tracks',\n",
    "              'number of versions', 'number on label', 'number on label for sale', 'number want', \n",
    "              'integer year', 'average rating', 'number of records', 'limited edition', \n",
    "              'reissue', 'difference to earliest version', 'difference to latest version']\n",
    "\n",
    "#Randomly shuffle the row order\n",
    "new_albums = albums.sample(frac=1)\n",
    "\n",
    "#Generate predictions\n",
    "predictions = get_random_forest_predictions(new_albums, predictors)\n",
    "\n",
    "#Calculate\n",
    "mean_diff = get_mean_diff(np.array(new_albums['median price sold']), predictions)\n",
    "score = get_score(np.array(new_albums['median price sold']), predictions)\n",
    "\n",
    "print('Random forest with years to reissues added'\n",
    "      ' gives £{0:.2f} mean difference and {1:.4f} score'.format(mean_diff,score))\n",
    "\n",
    "mean_diff_each_step.append(mean_diff)\n",
    "score_each_step.append(score)\n",
    "each_step.append('Reissues')"
   ]
  },
  {
   "cell_type": "markdown",
   "metadata": {},
   "source": [
    "Together these improve both the mean difference and score."
   ]
  },
  {
   "cell_type": "markdown",
   "metadata": {},
   "source": [
    "## Countries\n",
    "\n",
    "There are lots of different countries, many with few entries. First let's try binary variables for countries with more (>10) entries than the likely min leaf size in the random forest regressor (as otherwise they won't be used in the regressor)."
   ]
  },
  {
   "cell_type": "code",
   "execution_count": 29,
   "metadata": {
    "collapsed": true
   },
   "outputs": [],
   "source": [
    "albums.ix[albums['country'].isnull(),'country'] = ''\n",
    "\n",
    "#Find all the countries\n",
    "country_list = albums['country'].unique()\n",
    "            \n",
    "#Create a binary variable for each country\n",
    "for country in country_list:\n",
    "    albums['c_'+country] = 0\n",
    "#Populate the binary variable\n",
    "    albums.ix[albums['country'] == country, 'c_'+country] = 1\n",
    "        \n",
    "#Ignore the styles with few (<10) entries\n",
    "c_country_list = []\n",
    "for country in country_list:\n",
    "    if sum(albums['c_'+country])<10:\n",
    "        albums.drop('c_'+country, axis=1, inplace=True)\n",
    "    else:\n",
    "        c_country_list.append('c_'+country)"
   ]
  },
  {
   "cell_type": "code",
   "execution_count": 30,
   "metadata": {
    "collapsed": false
   },
   "outputs": [
    {
     "name": "stdout",
     "output_type": "stream",
     "text": [
      "Random forest with countries added gives £17.44 mean difference and 0.4231 score\n"
     ]
    }
   ],
   "source": [
    "predictors = ['compilation','number for sale', 'number have', 'number of ratings', 'number of tracks',\n",
    "              'number of versions', 'number on label', 'number on label for sale', 'number want', \n",
    "              'integer year', 'average rating', 'number of records', 'limited edition', \n",
    "              'reissue', 'difference to earliest version', 'difference to latest version'] + c_country_list\n",
    "\n",
    "#Randomly shuffle the row order\n",
    "new_albums = albums.sample(frac=1)\n",
    "\n",
    "#Generate predictions\n",
    "predictions = get_random_forest_predictions(new_albums, predictors)\n",
    "\n",
    "#Calculate\n",
    "mean_diff = get_mean_diff(np.array(new_albums['median price sold']), predictions)\n",
    "score = get_score(np.array(new_albums['median price sold']), predictions)\n",
    "\n",
    "print('Random forest with countries added'\n",
    "      ' gives £{0:.2f} mean difference and {1:.4f} score'.format(mean_diff,score))\n",
    "\n",
    "mean_diff_each_step.append(mean_diff)\n",
    "score_each_step.append(score)\n",
    "each_step.append('Countries')"
   ]
  },
  {
   "cell_type": "markdown",
   "metadata": {},
   "source": [
    "Now let's try using k-means to cluster together the countries into a few groups, and using these as features."
   ]
  },
  {
   "cell_type": "code",
   "execution_count": 31,
   "metadata": {
    "collapsed": false
   },
   "outputs": [
    {
     "name": "stderr",
     "output_type": "stream",
     "text": [
      "C:\\Anaconda3\\lib\\site-packages\\numpy\\core\\_methods.py:82: RuntimeWarning: Degrees of freedom <= 0 for slice\n",
      "  warnings.warn(\"Degrees of freedom <= 0 for slice\", RuntimeWarning)\n"
     ]
    }
   ],
   "source": [
    "from sklearn.cluster import KMeans\n",
    "\n",
    "#Make a dataframe with the price statistics for each country\n",
    "country_stats = pd.DataFrame(albums.groupby(by = 'country')\n",
    "                             .describe()['median price sold']).reset_index().pivot(index = 'country',\n",
    "                                                                                   columns = 'level_1',\n",
    "                                                                                   values = 'median price sold')\n",
    "#Replace the nan stds with 0\n",
    "country_stats.ix[country_stats['std'].isnull(),'std'] = 0\n",
    "\n",
    "#scale each column by the median value\n",
    "country_stats_scaled = pd.DataFrame()\n",
    "for column in country_stats.columns:\n",
    "    #Take the square root of each value to reduce the effect of outlying, really expensive records\n",
    "    country_stats_scaled[column] = [np.sqrt(country_stats.ix[index,column] / country_stats[column].median()) \n",
    "                                    for index in country_stats.index]\n",
    "\n",
    "#Cluster with kmeans\n",
    "km = KMeans(n_clusters=6)\n",
    "#Cluster on the limits, mean and percentiles\n",
    "km.fit(country_stats_scaled[['max', 'mean', 'min', '25%', '50%', '75%']].as_matrix())\n",
    "\n",
    "country_stats['label'] = km.labels_"
   ]
  },
  {
   "cell_type": "code",
   "execution_count": 32,
   "metadata": {
    "collapsed": false
   },
   "outputs": [
    {
     "data": {
      "image/png": "[encoded data removed]",
      "text/plain": [
       "<matplotlib.figure.Figure at 0xb842128>"
      ]
     },
     "metadata": {},
     "output_type": "display_data"
    }
   ],
   "source": [
    "fig = plt.figure(figsize=(15,3))\n",
    "c_list = 'rgbmkc'\n",
    "\n",
    "ax1 = fig.add_subplot(121)\n",
    "ax2 = fig.add_subplot(122)\n",
    "count = 0\n",
    "for label in country_stats['label'].unique():\n",
    "    x = list(country_stats.ix[country_stats['label'] == label,'min'])\n",
    "    y = list(country_stats.ix[country_stats['label'] == label,'max'])\n",
    "    z = list(country_stats.ix[country_stats['label'] == label,'mean'])\n",
    "    ax1.scatter(z, y, c=c_list[count], marker='o')\n",
    "    ax2.scatter(z, x, c=c_list[count], marker='o')\n",
    "    count = count+1\n",
    "\n",
    "\n",
    "ax1.set_xlabel('mean')\n",
    "ax1.set_ylabel('max')\n",
    "ax1.set_xlim([0,500])\n",
    "ax1.set_ylim([0,2500])\n",
    "ax2.set_xlabel('mean')\n",
    "ax2.set_ylabel('min')\n",
    "ax2.set_xlim([0,500])\n",
    "ax2.set_ylim([0,500]);"
   ]
  },
  {
   "cell_type": "code",
   "execution_count": 33,
   "metadata": {
    "collapsed": false
   },
   "outputs": [
    {
     "name": "stdout",
     "output_type": "stream",
     "text": [
      "r corresponds to:\n",
      "['', 'Argentina', 'Australia', 'Austria', 'Belgium']\n",
      "g corresponds to:\n",
      "['Algeria', 'Germany, Austria, & Switzerland', 'Haiti', 'Lebanon', 'Pakistan']\n",
      "b corresponds to:\n",
      "['Andorra', 'Australia & New Zealand', 'Bahamas, The', 'Barbados', 'Benelux']\n",
      "m corresponds to:\n",
      "['Brazil', 'France', 'Germany', 'Italy', 'Japan']\n",
      "k corresponds to:\n",
      "['Denmark', 'Egypt', 'Ethiopia', 'Finland', 'India']\n",
      "c corresponds to:\n",
      "['Mongolia']\n"
     ]
    }
   ],
   "source": [
    "for i in range(0,6):\n",
    "    print(c_list[i] + ' corresponds to:')\n",
    "    print(list(country_stats[country_stats['label'] == country_stats['label'].unique()[i]].index[:5]))"
   ]
  },
  {
   "cell_type": "code",
   "execution_count": 41,
   "metadata": {
    "collapsed": false
   },
   "outputs": [
    {
     "data": {
      "text/html": [
       "<div>\n",
       "<table border=\"1\" class=\"dataframe\">\n",
       "  <thead>\n",
       "    <tr style=\"text-align: right;\">\n",
       "      <th></th>\n",
       "      <th>artist</th>\n",
       "      <th>title</th>\n",
       "      <th>label</th>\n",
       "      <th>year</th>\n",
       "      <th>median price sold</th>\n",
       "    </tr>\n",
       "  </thead>\n",
       "  <tbody>\n",
       "    <tr>\n",
       "      <th>1815</th>\n",
       "      <td>The Bayan Mongol Variety Group</td>\n",
       "      <td>Эстрадный Ансамбль \"Баян Монгол\" Чуулга</td>\n",
       "      <td>Мелодия</td>\n",
       "      <td>1980</td>\n",
       "      <td>408.07</td>\n",
       "    </tr>\n",
       "  </tbody>\n",
       "</table>\n",
       "</div>"
      ],
      "text/plain": [
       "                              artist                                    title  \\\n",
       "1815  The Bayan Mongol Variety Group  Эстрадный Ансамбль \"Баян Монгол\" Чуулга   \n",
       "\n",
       "        label  year  median price sold  \n",
       "1815  Мелодия  1980             408.07  "
      ]
     },
     "execution_count": 41,
     "metadata": {},
     "output_type": "execute_result"
    }
   ],
   "source": [
    "albums.ix[albums['country'] == 'Mongolia', ['artist','title','label','year','median price sold']]"
   ]
  },
  {
   "cell_type": "markdown",
   "metadata": {},
   "source": [
    "The six groups are:\n",
    "\n",
    "1) Red: low mean/min, middling max; uniformly cheap countries  \n",
    "places where major labels release records with fewer small pressings  \n",
    "e.g. Australia, Canada, Cuba, Poland, plus hybrid 'countries' like Europe\n",
    "\n",
    "2) Green: high mean/min, low max; uniformly expensive countries  \n",
    "places with only a few, sought after releases  \n",
    "e.g. Haiti, Lebanon, Pakistan\n",
    "\n",
    "3) Blue: middling mean/min, low max; uniformly mid-range countries  \n",
    "places where records are slightly rarer, with local scenes of interest  \n",
    "e.g. Colombia, Ghana, Jamaica, Mexico\n",
    "\n",
    "4) Magenta: low mean, low min, high max; diversely cheaper countries,  \n",
    "major labels releasing records in bulk but also smaller (private?) pressings  \n",
    "e.g. US, UK, Brazil, France, Japan \n",
    "\n",
    "5) Black: high mean, low min, high max; diversely expensive countries  \n",
    "places with both major label operations, but also local scenes of interest  \n",
    "e.g. Belgium, India, South Africa, Turkey\n",
    "\n",
    "6) Cyan: Mongolia, or specifically one record of a Soviet variety show by the Bayan Mongol Group  \n",
    "this fits in best with the records in 1) so reassign Mongolia there\n",
    "\n",
    "These are pretty neat divisions (except for the last one), so we should add these as binary variables.  \n",
    "I don't agree with where some of the countries end up, but these have few data points - more data will place them in the 'correct' category.\n",
    "\n",
    "N.B. This is a bit dodgy as we're using the test data to build the classifier, so perhaps in future we should only cluster on those in the training data.  \n",
    "We also should create a more rigorous way of weeding out 'Mongolias': if there's less than a certain number of countries in a cluster, assign them to the next nearest cluster."
   ]
  },
  {
   "cell_type": "code",
   "execution_count": 34,
   "metadata": {
    "collapsed": true
   },
   "outputs": [],
   "source": [
    "#Reassign Mongolia\n",
    "country_stats.ix['Mongolia', 'label'] = country_stats.ix['Lebanon', 'label']\n",
    "\n",
    "#Create binary variables for each label\n",
    "count = 1\n",
    "for label in country_stats['label'].unique():\n",
    "    albums['country label ' + str(count)] = 0\n",
    "    for country in country_stats[country_stats['label'] == label].index:\n",
    "        albums.ix[albums['country'] == country, 'country label ' + str(count)] = 1\n",
    "    count = count + 1"
   ]
  },
  {
   "cell_type": "code",
   "execution_count": 35,
   "metadata": {
    "collapsed": false
   },
   "outputs": [
    {
     "name": "stdout",
     "output_type": "stream",
     "text": [
      "Random forest with countries added gives £17.84 mean difference and 0.4017 score\n"
     ]
    }
   ],
   "source": [
    "predictors = ['compilation','number for sale', 'number have', 'number of ratings', 'number of tracks',\n",
    "              'number of versions', 'number on label', 'number on label for sale', 'number want', \n",
    "              'integer year', 'average rating', 'number of records', 'limited edition', \n",
    "              'reissue', 'difference to earliest version', 'difference to latest version',\n",
    "              'country label 1', 'country label 2', 'country label 3', 'country label 4', 'country label 5']\n",
    "\n",
    "#Randomly shuffle the row order\n",
    "new_albums = albums.sample(frac=1)\n",
    "\n",
    "#Generate predictions\n",
    "predictions = get_random_forest_predictions(new_albums, predictors)\n",
    "\n",
    "#Calculate\n",
    "mean_diff = get_mean_diff(np.array(new_albums['median price sold']), predictions)\n",
    "score = get_score(np.array(new_albums['median price sold']), predictions)\n",
    "\n",
    "print('Random forest with countries added'\n",
    "      ' gives £{0:.2f} mean difference and {1:.4f} score'.format(mean_diff,score))"
   ]
  },
  {
   "cell_type": "markdown",
   "metadata": {},
   "source": [
    "This isn't as good as the binary variables."
   ]
  },
  {
   "cell_type": "markdown",
   "metadata": {},
   "source": [
    "## Genres\n",
    "\n",
    "Genre may affect price: bebop collectors will probably pay more for originals than smooth jazz collectors, for example."
   ]
  },
  {
   "cell_type": "code",
   "execution_count": 37,
   "metadata": {
    "collapsed": false
   },
   "outputs": [
    {
     "name": "stdout",
     "output_type": "stream",
     "text": [
      "Electronic: 2474, £32.80\n",
      "Jazz: 23124, £35.27\n",
      "Hip Hop: 365, £24.21\n",
      "Stage & Screen: 1865, £51.57\n",
      "Funk / Soul: 6067, £34.71\n",
      "Rock: 3636, £35.45\n",
      "Latin: 1763, £37.27\n",
      "Folk, World, & Country: 1262, £46.08\n",
      "Pop: 1131, £33.75\n",
      "Classical: 388, £49.13\n",
      "Non-Music: 284, £43.94\n",
      "Reggae: 153, £30.66\n",
      "Blues: 521, £30.02\n",
      "Children's: 19, £22.49\n",
      "Brass & Military: 38, £38.46\n"
     ]
    }
   ],
   "source": [
    "#Extract all the genres\n",
    "genre_list = []\n",
    "for genres in albums['genre'].unique():\n",
    "    for genre in genres.split('; '):\n",
    "        if genre not in genre_list:\n",
    "            genre_list.append(genre)\n",
    "            \n",
    "#Create a binary variable for each genre\n",
    "for genre in genre_list:\n",
    "    albums['g_'+genre] = 0\n",
    "\n",
    "#Populate the binary variable\n",
    "for genres in albums['genre'].unique():\n",
    "    for genre in genres.split('; '):\n",
    "        albums.ix[albums['genre'] == genres, 'g_'+genre] = 1\n",
    "        \n",
    "#Ignore the genres with few (<10) entries\n",
    "g_genre_list = []\n",
    "for genre in genre_list:\n",
    "    if sum(albums['g_'+genre])<10:\n",
    "        albums.drop('g_'+genre, axis=1, inplace=True)\n",
    "    else:\n",
    "        print(genre + ': {0}, £{1:.2f}'.format(sum(albums['g_'+genre]),albums.ix[albums['g_'+genre] == 1,\n",
    "                                                                                 'median price sold'].mean()))\n",
    "        g_genre_list.append('g_'+genre)"
   ]
  },
  {
   "cell_type": "markdown",
   "metadata": {},
   "source": [
    "Hip hop records are invariably newer, so less expensive.  \n",
    "Stage & Screen is more expensive (perhaps less popular upon initial release, at least in the realms of jazz).  \n",
    "Folk, World, & Country will be pressings from more 'exotic' locations, so more expensive.  \n",
    "Classical/non-music is more expensive (perhaps less popular upon initial release, at least in the realms of jazz).\n",
    "\n",
    "Let's use some of these as features (with >100 entries)"
   ]
  },
  {
   "cell_type": "code",
   "execution_count": 38,
   "metadata": {
    "collapsed": false
   },
   "outputs": [
    {
     "name": "stdout",
     "output_type": "stream",
     "text": [
      "Random forest with genres added gives £17.45 mean difference and 0.4155 score\n"
     ]
    }
   ],
   "source": [
    "predictors = ['compilation','number for sale', 'number have', 'number of ratings', 'number of tracks',\n",
    "              'number of versions', 'number on label', 'number on label for sale', 'number want', \n",
    "              'integer year', 'average rating', 'number of records', 'limited edition', \n",
    "              'reissue', 'difference to earliest version', 'difference to latest version'] + c_country_list + g_genre_list\n",
    "\n",
    "#Randomly shuffle the row order\n",
    "new_albums = albums.sample(frac=1)\n",
    "\n",
    "#Generate predictions\n",
    "predictions = get_random_forest_predictions(new_albums, predictors)\n",
    "\n",
    "#Calculate\n",
    "mean_diff = get_mean_diff(np.array(new_albums['median price sold']), predictions)\n",
    "score = get_score(np.array(new_albums['median price sold']), predictions)\n",
    "\n",
    "print('Random forest with genres added'\n",
    "      ' gives £{0:.2f} mean difference and {1:.4f} score'.format(mean_diff,score))\n",
    "\n",
    "mean_diff_each_step.append(mean_diff)\n",
    "score_each_step.append(score)\n",
    "each_step.append('Genres')"
   ]
  },
  {
   "cell_type": "markdown",
   "metadata": {},
   "source": [
    "Little difference."
   ]
  },
  {
   "cell_type": "markdown",
   "metadata": {},
   "source": [
    "## Styles\n",
    "\n",
    "Slightly more specific categorisations, but may have a similar effect to genres."
   ]
  },
  {
   "cell_type": "code",
   "execution_count": 39,
   "metadata": {
    "collapsed": false
   },
   "outputs": [
    {
     "name": "stdout",
     "output_type": "stream",
     "text": [
      "Jazz-Funk: 4587, £29.90\n",
      "Instrumental: 103, £31.48\n",
      "Downtempo: 216, £23.30\n",
      "Jazzy Hip-Hop: 46, £32.09\n",
      "Fusion: 3136, £27.98\n",
      "Soundtrack: 1029, £46.82\n",
      "Score: 287, £50.94\n",
      "Ambient: 249, £33.81\n",
      "Modal: 1343, £40.89\n",
      "Funk: 1755, £32.85\n",
      "Disco: 884, £23.29\n",
      "Soul-Jazz: 2786, £28.06\n",
      "Jazz-Rock: 1846, £35.35\n",
      "Contemporary Jazz: 1371, £34.15\n",
      "Psychedelic: 330, £48.71\n",
      "Soul: 1016, £22.10\n",
      "Afro-Cuban: 129, £29.44\n",
      "Afrobeat: 490, £34.54\n",
      "Abstract: 285, £45.04\n",
      "Avantgarde: 546, £31.73\n",
      "Prog Rock: 852, £43.80\n",
      "Boogie: 21, £73.78\n",
      "Rhythm & Blues: 261, £25.87\n",
      "Smooth Jazz: 520, £25.19\n",
      "Avant-garde Jazz: 424, £51.67\n",
      "Post Bop: 1222, £33.23\n",
      ": 1893, £45.13\n",
      "Bossa Nova: 596, £39.55\n",
      "Alternative Rock: 70, £27.53\n",
      "Punk: 26, £23.47\n",
      "Latin Jazz: 1329, £27.85\n",
      "MPB: 227, £58.44\n",
      "Space-Age: 603, £33.65\n",
      "Cool Jazz: 492, £30.99\n",
      "Big Band: 584, £32.31\n",
      "Contemporary: 102, £49.56\n",
      "African: 147, £49.20\n",
      "Free Jazz: 2594, £39.91\n",
      "Future Jazz: 249, £23.86\n",
      "Deep House: 40, £17.25\n",
      "Experimental: 1123, £41.37\n",
      "Free Improvisation: 1074, £48.59\n",
      "Easy Listening: 1835, £38.64\n",
      "Hard Bop: 1689, £37.80\n",
      "Lounge: 227, £32.60\n",
      "Psychedelic Rock: 517, £43.13\n",
      "Education: 13, £56.05\n",
      "Post-Modern: 11, £44.83\n",
      "Reggae: 44, £29.72\n",
      "Folk Rock: 193, £33.99\n",
      "Classic Rock: 105, £17.39\n",
      "Acoustic: 79, £20.87\n",
      "Folk: 153, £54.57\n",
      "Bop: 690, £38.13\n",
      "Symphonic Rock: 10, £18.54\n",
      "Neo Soul: 36, £22.65\n",
      "Modern Classical: 138, £39.50\n",
      "New Age: 54, £33.75\n",
      "Krautrock: 138, £54.16\n",
      "Blues Rock: 220, £26.43\n",
      "Poetry: 68, £34.18\n",
      "Piano Blues: 60, £17.83\n",
      "Ballad: 133, £23.63\n",
      "Art Rock: 167, £32.94\n",
      "Country Rock: 36, £18.09\n",
      "Dialogue: 31, £61.11\n",
      "Hip Hop: 41, £19.38\n",
      "Highlife: 31, £32.91\n",
      "Trip Hop: 45, £22.31\n",
      "Afro-Cuban Jazz: 418, £35.06\n",
      "Leftfield: 162, £44.60\n",
      "Soft Rock: 107, £13.25\n",
      "Pop Rock: 272, £22.57\n",
      "Bossanova: 214, £34.36\n",
      "Hardcore: 15, £24.92\n",
      "Cut-up/DJ: 23, £21.11\n",
      "Samba: 196, £32.37\n",
      "Synth-pop: 187, £27.70\n",
      "Acid Jazz: 115, £18.47\n",
      "Dub: 63, £24.35\n",
      "Free Funk: 108, £35.05\n",
      "Jazzdance: 98, £20.41\n",
      "Spoken Word: 150, £35.63\n",
      "Hard Rock: 33, £21.56\n",
      "Gospel: 63, £33.90\n",
      "Louisiana Blues: 15, £19.98\n",
      "Bayou Funk: 26, £17.41\n",
      "Pop Rap: 12, £62.37\n",
      "Cubano: 14, £31.18\n",
      "Son: 21, £22.87\n",
      "Salsa: 91, £27.15\n",
      "Rumba: 15, £23.99\n",
      "Comedy: 15, £36.16\n",
      "Vocal: 239, £26.91\n",
      "Broken Beat: 32, £18.77\n",
      "Modern: 24, £46.20\n",
      "Conscious: 41, £24.18\n",
      "Tribal: 22, £31.37\n",
      "Boogaloo: 72, £27.92\n",
      "Chanson: 85, £36.16\n",
      "Noise: 89, £32.95\n",
      "Field Recording: 21, £68.15\n",
      "Musique Concrète: 60, £66.74\n",
      "IDM: 12, £19.70\n",
      "House: 61, £22.34\n",
      "Breaks: 80, £36.40\n",
      "Gypsy Jazz: 53, £26.55\n",
      "Rock & Roll: 44, £28.72\n",
      "Indie Rock: 28, £34.70\n",
      "Ethereal: 10, £31.13\n",
      "Swing: 265, £24.06\n",
      "Political: 19, £35.75\n",
      "East Coast Blues: 18, £20.16\n",
      "Cape Jazz: 32, £104.23\n",
      "Cumbia: 14, £33.68\n",
      "Electro: 113, £20.92\n",
      "Theme: 196, £58.79\n",
      "Flamenco: 26, £32.93\n",
      "Batucada: 33, £29.65\n",
      "Classical: 25, £64.99\n",
      "Beat: 47, £55.28\n",
      "Space Rock: 52, £36.87\n",
      "Techno: 24, £18.38\n",
      "Drum n Bass: 19, £18.68\n",
      "Mod: 30, £35.96\n",
      "Ragtime: 23, £50.96\n",
      "New Wave: 59, £22.07\n",
      "Schlager: 20, £22.03\n",
      "Garage Rock: 31, £27.22\n",
      "Mambo: 51, £32.69\n",
      "Calypso: 27, £30.67\n",
      "Zouk: 26, £50.05\n",
      "Doo Wop: 12, £44.32\n",
      "Parody: 23, £33.40\n",
      "RnB/Swing: 21, £29.84\n",
      "Minimal: 52, £39.02\n",
      "Religious: 10, £82.93\n",
      "No Wave: 26, £21.52\n",
      "Italo-Disco: 11, £35.21\n",
      "Dixieland: 25, £20.23\n",
      "Country: 12, £42.92\n",
      "Novelty: 34, £22.02\n",
      "P.Funk: 15, £33.23\n",
      "Breakbeat: 30, £43.50\n",
      "Descarga: 38, £54.02\n",
      "Guaguancó: 18, £32.72\n",
      "Bolero: 22, £34.81\n",
      "Drone: 43, £38.64\n",
      "Neo-Classical: 27, £38.94\n",
      "Industrial: 29, £25.71\n",
      "Latin: 37, £16.93\n",
      "Surf: 28, £27.83\n",
      "Indian Classical: 15, £53.69\n",
      "Hindustani: 11, £99.68\n",
      "Cha-Cha: 24, £25.85\n",
      "Special Effects: 11, £56.59\n",
      "Post Rock: 19, £20.02\n",
      "Neo-Romantic: 14, £31.95\n",
      "Pacific: 27, £13.21\n",
      "Post-Punk: 10, £20.55\n",
      "Math Rock: 18, £23.46\n",
      "Beguine: 11, £59.23\n",
      "Merengue: 10, £29.90\n",
      "Country Blues: 11, £56.83\n",
      "Modern Electric Blues: 13, £10.57\n",
      "Rocksteady: 10, £16.96\n",
      "Tango: 11, £26.93\n",
      "Heavy Metal: 17, £22.81\n",
      "Movie Effects: 10, £32.53\n",
      "Brass Band: 11, £24.47\n",
      "Compas: 10, £37.38\n",
      "Romantic: 10, £21.26\n",
      "Ska: 13, £22.74\n",
      "Electric Blues: 21, £19.80\n"
     ]
    }
   ],
   "source": [
    "albums.ix[albums['style'].isnull(),'style'] = ''\n",
    "\n",
    "#Extract all the styles\n",
    "style_list = []\n",
    "for styles in albums['style'].unique():\n",
    "    for style in styles.split('; '):\n",
    "        if style not in style_list:\n",
    "            style_list.append(style)\n",
    "            \n",
    "#Create a binary variable for each style\n",
    "for style in style_list:\n",
    "    albums['s_'+style] = 0\n",
    "\n",
    "#Populate the binary variable\n",
    "for styles in albums['style'].unique():\n",
    "    for style in styles.split('; '):\n",
    "        albums.ix[albums['style'] == styles, 's_'+style] = 1\n",
    "        \n",
    "#Ignore the styles with few (<10) entries\n",
    "s_style_list = []\n",
    "for style in style_list:\n",
    "    if sum(albums['s_'+style])<10:\n",
    "        albums.drop('s_'+style, axis=1, inplace=True)\n",
    "    else:\n",
    "        print(style + ': {0}, £{1:.2f}'.format(sum(albums['s_'+style]),albums.ix[albums['s_'+style] == 1, \n",
    "                                                                                 'median price sold'].mean()))\n",
    "        s_style_list.append('s_'+style)"
   ]
  },
  {
   "cell_type": "code",
   "execution_count": 40,
   "metadata": {
    "collapsed": false
   },
   "outputs": [
    {
     "name": "stdout",
     "output_type": "stream",
     "text": [
      "Random forest with styles added gives £17.27 mean difference and 0.4179 score\n"
     ]
    }
   ],
   "source": [
    "predictors = ['compilation','number for sale', 'number have', 'number of ratings', 'number of tracks',\n",
    "              'number of versions', 'number on label', 'number on label for sale', 'number want', \n",
    "              'integer year', 'average rating', 'number of records', 'limited edition', \n",
    "              'reissue', 'difference to earliest version', 'difference to latest version'] + c_country_list + g_genre_list + s_style_list\n",
    "\n",
    "#Randomly shuffle the row order\n",
    "new_albums = albums.sample(frac=1)\n",
    "\n",
    "#Generate predictions\n",
    "predictions = get_random_forest_predictions(new_albums, predictors)\n",
    "\n",
    "#Calculate\n",
    "mean_diff = get_mean_diff(np.array(new_albums['median price sold']), predictions)\n",
    "score = get_score(np.array(new_albums['median price sold']), predictions)\n",
    "\n",
    "print('Random forest with styles added'\n",
    "      ' gives £{0:.2f} mean difference and {1:.4f} score'.format(mean_diff,score))\n",
    "\n",
    "mean_diff_each_step.append(mean_diff)\n",
    "score_each_step.append(score)\n",
    "each_step.append('Styles')"
   ]
  },
  {
   "cell_type": "markdown",
   "metadata": {},
   "source": [
    "Improves mean difference a little at least."
   ]
  },
  {
   "cell_type": "code",
   "execution_count": 41,
   "metadata": {
    "collapsed": false
   },
   "outputs": [
    {
     "data": {
      "image/png": "[encoded data removed]",
      "text/plain": [
       "<matplotlib.figure.Figure at 0xb842710>"
      ]
     },
     "metadata": {},
     "output_type": "display_data"
    }
   ],
   "source": [
    "xticks = list(range(0,len(score_each_step)))\n",
    "fig = plt.figure(figsize=(12,3))\n",
    "ax1 = fig.add_subplot(121)\n",
    "ax1.plot(xticks,mean_diff_each_step,'-or')\n",
    "ax1.set_title('mean diff')\n",
    "ax1.set_xticks(xticks)\n",
    "ax1.set_xticklabels(each_step, rotation=90)\n",
    "ax1.set_ylabel('mean diff (£)')\n",
    "ax2 = fig.add_subplot(122)\n",
    "ax2.plot(xticks,score_each_step,'-ob')\n",
    "ax2.set_title('score')\n",
    "ax2.set_xticks(xticks)\n",
    "ax2.set_xticklabels(each_step, rotation=90)\n",
    "ax2.set_ylabel('score');"
   ]
  },
  {
   "cell_type": "markdown",
   "metadata": {},
   "source": [
    "Although there's obviously some noise in both the mean difference and score associated with the random partitioning of the data into train and test sets, there's still a clear improvement in both measures as features have been added."
   ]
  },
  {
   "cell_type": "code",
   "execution_count": 42,
   "metadata": {
    "collapsed": true
   },
   "outputs": [],
   "source": [
    "albums.to_csv('../data/interim/albums.csv',encoding='utf-8')"
   ]
  },
  {
   "cell_type": "code",
   "execution_count": null,
   "metadata": {
    "collapsed": true
   },
   "outputs": [],
   "source": []
  }
 ],
 "metadata": {
  "kernelspec": {
   "display_name": "Python 3",
   "language": "python",
   "name": "python3"
  },
  "language_info": {
   "codemirror_mode": {
    "name": "ipython",
    "version": 3
   },
   "file_extension": ".py",
   "mimetype": "text/x-python",
   "name": "python",
   "nbconvert_exporter": "python",
   "pygments_lexer": "ipython3",
   "version": "3.5.2"
  }
 },
 "nbformat": 4,
 "nbformat_minor": 0
}
